{
 "cells": [
  {
   "cell_type": "code",
   "execution_count": 1,
   "id": "f7eda1c7",
   "metadata": {},
   "outputs": [
    {
     "name": "stderr",
     "output_type": "stream",
     "text": [
      "/people/rachmat/Bureau/.venv/lib/python3.10/site-packages/tqdm/auto.py:21: TqdmWarning: IProgress not found. Please update jupyter and ipywidgets. See https://ipywidgets.readthedocs.io/en/stable/user_install.html\n",
      "  from .autonotebook import tqdm as notebook_tqdm\n"
     ]
    }
   ],
   "source": [
    "from datasets import load_dataset\n",
    "from sentence_transformers import SentenceTransformer\n",
    "from sklearn.cluster import KMeans\n",
    "from sklearn.manifold import TSNE\n",
    "import plotly.express as px\n",
    "import plotly.graph_objects as go\n",
    "import pandas as pd\n",
    "import numpy as np\n",
    "import re\n",
    "from tqdm import tqdm\n",
    "\n",
    "EMBED_MODEL = \"Qwen/Qwen3-Embedding-0.6B\"  \n",
    "MAX_SEQ_CHARS = 3500   \n",
    "N_CLUSTERS = 10      \n",
    "TSNE_PERPLEXITY = 30   \n",
    "TSNE_ITERS = 1000"
   ]
  },
  {
   "cell_type": "code",
   "execution_count": 2,
   "id": "0a8112e7",
   "metadata": {},
   "outputs": [],
   "source": [
    "def clean_ws(text: str) -> str:\n",
    "    return re.sub(r\"\\s+\", \" \", (text or \"\")).strip()\n",
    "\n",
    "def truncate_context(ctx: str, max_chars: int = MAX_SEQ_CHARS) -> str:\n",
    "    ctx = clean_ws(ctx)\n",
    "    if len(ctx) <= max_chars:\n",
    "        return ctx\n",
    "    # truncate at a word boundary\n",
    "    return ctx[:max_chars].rsplit(\" \", 1)[0] + \" …\"\n",
    "\n",
    "def build_text(title, question, context):\n",
    "    return f\"[TITLE] {clean_ws(title)}\\n[QUESTION] {clean_ws(question)}\\n[CONTEXT] {truncate_context(context)}\""
   ]
  },
  {
   "cell_type": "code",
   "execution_count": 3,
   "id": "d648987e",
   "metadata": {},
   "outputs": [],
   "source": [
    "dataset = load_dataset(\"rajpurkar/squad_v2\")"
   ]
  },
  {
   "cell_type": "code",
   "execution_count": 6,
   "id": "85fbfd21",
   "metadata": {},
   "outputs": [
    {
     "name": "stdout",
     "output_type": "stream",
     "text": [
      "Total samples: 142,192  (train: 130,319, val: 11,873)\n",
      "Loading embedding model…\n",
      "Encoding texts…\n"
     ]
    },
    {
     "name": "stderr",
     "output_type": "stream",
     "text": [
      "Batches:   0%|          | 0/2222 [00:02<?, ?it/s]\n"
     ]
    },
    {
     "ename": "OutOfMemoryError",
     "evalue": "CUDA out of memory. Tried to allocate 256.00 MiB. GPU 0 has a total capacity of 47.53 GiB of which 251.94 MiB is free. Process 2445468 has 39.35 GiB memory in use. Including non-PyTorch memory, this process has 7.93 GiB memory in use. Of the allocated memory 7.35 GiB is allocated by PyTorch, and 271.16 MiB is reserved by PyTorch but unallocated. If reserved but unallocated memory is large try setting PYTORCH_CUDA_ALLOC_CONF=expandable_segments:True to avoid fragmentation.  See documentation for Memory Management  (https://pytorch.org/docs/stable/notes/cuda.html#environment-variables)",
     "output_type": "error",
     "traceback": [
      "\u001b[0;31m---------------------------------------------------------------------------\u001b[0m",
      "\u001b[0;31mOutOfMemoryError\u001b[0m                          Traceback (most recent call last)",
      "Cell \u001b[0;32mIn[6], line 39\u001b[0m\n\u001b[1;32m     36\u001b[0m model\u001b[38;5;241m.\u001b[39mmax_seq_length \u001b[38;5;241m=\u001b[39m \u001b[38;5;241m512\u001b[39m\n\u001b[1;32m     38\u001b[0m \u001b[38;5;28mprint\u001b[39m(\u001b[38;5;124m\"\u001b[39m\u001b[38;5;124mEncoding texts…\u001b[39m\u001b[38;5;124m\"\u001b[39m)\n\u001b[0;32m---> 39\u001b[0m embeddings \u001b[38;5;241m=\u001b[39m \u001b[43mmodel\u001b[49m\u001b[38;5;241;43m.\u001b[39;49m\u001b[43mencode\u001b[49m\u001b[43m(\u001b[49m\n\u001b[1;32m     40\u001b[0m \u001b[43m    \u001b[49m\u001b[43mtexts\u001b[49m\u001b[43m,\u001b[49m\n\u001b[1;32m     41\u001b[0m \u001b[43m    \u001b[49m\u001b[43mbatch_size\u001b[49m\u001b[38;5;241;43m=\u001b[39;49m\u001b[38;5;241;43m64\u001b[39;49m\u001b[43m,\u001b[49m\n\u001b[1;32m     42\u001b[0m \u001b[43m    \u001b[49m\u001b[43mshow_progress_bar\u001b[49m\u001b[38;5;241;43m=\u001b[39;49m\u001b[38;5;28;43;01mTrue\u001b[39;49;00m\u001b[43m,\u001b[49m\n\u001b[1;32m     43\u001b[0m \u001b[43m    \u001b[49m\u001b[43mconvert_to_numpy\u001b[49m\u001b[38;5;241;43m=\u001b[39;49m\u001b[38;5;28;43;01mTrue\u001b[39;49;00m\u001b[43m,\u001b[49m\n\u001b[1;32m     44\u001b[0m \u001b[43m    \u001b[49m\u001b[43mnormalize_embeddings\u001b[49m\u001b[38;5;241;43m=\u001b[39;49m\u001b[38;5;28;43;01mTrue\u001b[39;49;00m\u001b[43m,\u001b[49m\n\u001b[1;32m     45\u001b[0m \u001b[43m)\u001b[49m\n",
      "File \u001b[0;32m~/Bureau/.venv/lib/python3.10/site-packages/sentence_transformers/SentenceTransformer.py:623\u001b[0m, in \u001b[0;36mSentenceTransformer.encode\u001b[0;34m(self, sentences, prompt_name, prompt, batch_size, show_progress_bar, output_value, precision, convert_to_numpy, convert_to_tensor, device, normalize_embeddings, **kwargs)\u001b[0m\n\u001b[1;32m    620\u001b[0m features\u001b[38;5;241m.\u001b[39mupdate(extra_features)\n\u001b[1;32m    622\u001b[0m \u001b[38;5;28;01mwith\u001b[39;00m torch\u001b[38;5;241m.\u001b[39mno_grad():\n\u001b[0;32m--> 623\u001b[0m     out_features \u001b[38;5;241m=\u001b[39m \u001b[38;5;28;43mself\u001b[39;49m\u001b[38;5;241;43m.\u001b[39;49m\u001b[43mforward\u001b[49m\u001b[43m(\u001b[49m\u001b[43mfeatures\u001b[49m\u001b[43m,\u001b[49m\u001b[43m \u001b[49m\u001b[38;5;241;43m*\u001b[39;49m\u001b[38;5;241;43m*\u001b[39;49m\u001b[43mkwargs\u001b[49m\u001b[43m)\u001b[49m\n\u001b[1;32m    624\u001b[0m     \u001b[38;5;28;01mif\u001b[39;00m \u001b[38;5;28mself\u001b[39m\u001b[38;5;241m.\u001b[39mdevice\u001b[38;5;241m.\u001b[39mtype \u001b[38;5;241m==\u001b[39m \u001b[38;5;124m\"\u001b[39m\u001b[38;5;124mhpu\u001b[39m\u001b[38;5;124m\"\u001b[39m:\n\u001b[1;32m    625\u001b[0m         out_features \u001b[38;5;241m=\u001b[39m copy\u001b[38;5;241m.\u001b[39mdeepcopy(out_features)\n",
      "File \u001b[0;32m~/Bureau/.venv/lib/python3.10/site-packages/sentence_transformers/SentenceTransformer.py:690\u001b[0m, in \u001b[0;36mSentenceTransformer.forward\u001b[0;34m(self, input, **kwargs)\u001b[0m\n\u001b[1;32m    688\u001b[0m     module_kwarg_keys \u001b[38;5;241m=\u001b[39m \u001b[38;5;28mself\u001b[39m\u001b[38;5;241m.\u001b[39mmodule_kwargs\u001b[38;5;241m.\u001b[39mget(module_name, [])\n\u001b[1;32m    689\u001b[0m     module_kwargs \u001b[38;5;241m=\u001b[39m {key: value \u001b[38;5;28;01mfor\u001b[39;00m key, value \u001b[38;5;129;01min\u001b[39;00m kwargs\u001b[38;5;241m.\u001b[39mitems() \u001b[38;5;28;01mif\u001b[39;00m key \u001b[38;5;129;01min\u001b[39;00m module_kwarg_keys}\n\u001b[0;32m--> 690\u001b[0m     \u001b[38;5;28minput\u001b[39m \u001b[38;5;241m=\u001b[39m \u001b[43mmodule\u001b[49m\u001b[43m(\u001b[49m\u001b[38;5;28;43minput\u001b[39;49m\u001b[43m,\u001b[49m\u001b[43m \u001b[49m\u001b[38;5;241;43m*\u001b[39;49m\u001b[38;5;241;43m*\u001b[39;49m\u001b[43mmodule_kwargs\u001b[49m\u001b[43m)\u001b[49m\n\u001b[1;32m    691\u001b[0m \u001b[38;5;28;01mreturn\u001b[39;00m \u001b[38;5;28minput\u001b[39m\n",
      "File \u001b[0;32m~/Bureau/.venv/lib/python3.10/site-packages/torch/nn/modules/module.py:1739\u001b[0m, in \u001b[0;36mModule._wrapped_call_impl\u001b[0;34m(self, *args, **kwargs)\u001b[0m\n\u001b[1;32m   1737\u001b[0m     \u001b[38;5;28;01mreturn\u001b[39;00m \u001b[38;5;28mself\u001b[39m\u001b[38;5;241m.\u001b[39m_compiled_call_impl(\u001b[38;5;241m*\u001b[39margs, \u001b[38;5;241m*\u001b[39m\u001b[38;5;241m*\u001b[39mkwargs)  \u001b[38;5;66;03m# type: ignore[misc]\u001b[39;00m\n\u001b[1;32m   1738\u001b[0m \u001b[38;5;28;01melse\u001b[39;00m:\n\u001b[0;32m-> 1739\u001b[0m     \u001b[38;5;28;01mreturn\u001b[39;00m \u001b[38;5;28;43mself\u001b[39;49m\u001b[38;5;241;43m.\u001b[39;49m\u001b[43m_call_impl\u001b[49m\u001b[43m(\u001b[49m\u001b[38;5;241;43m*\u001b[39;49m\u001b[43margs\u001b[49m\u001b[43m,\u001b[49m\u001b[43m \u001b[49m\u001b[38;5;241;43m*\u001b[39;49m\u001b[38;5;241;43m*\u001b[39;49m\u001b[43mkwargs\u001b[49m\u001b[43m)\u001b[49m\n",
      "File \u001b[0;32m~/Bureau/.venv/lib/python3.10/site-packages/torch/nn/modules/module.py:1750\u001b[0m, in \u001b[0;36mModule._call_impl\u001b[0;34m(self, *args, **kwargs)\u001b[0m\n\u001b[1;32m   1745\u001b[0m \u001b[38;5;66;03m# If we don't have any hooks, we want to skip the rest of the logic in\u001b[39;00m\n\u001b[1;32m   1746\u001b[0m \u001b[38;5;66;03m# this function, and just call forward.\u001b[39;00m\n\u001b[1;32m   1747\u001b[0m \u001b[38;5;28;01mif\u001b[39;00m \u001b[38;5;129;01mnot\u001b[39;00m (\u001b[38;5;28mself\u001b[39m\u001b[38;5;241m.\u001b[39m_backward_hooks \u001b[38;5;129;01mor\u001b[39;00m \u001b[38;5;28mself\u001b[39m\u001b[38;5;241m.\u001b[39m_backward_pre_hooks \u001b[38;5;129;01mor\u001b[39;00m \u001b[38;5;28mself\u001b[39m\u001b[38;5;241m.\u001b[39m_forward_hooks \u001b[38;5;129;01mor\u001b[39;00m \u001b[38;5;28mself\u001b[39m\u001b[38;5;241m.\u001b[39m_forward_pre_hooks\n\u001b[1;32m   1748\u001b[0m         \u001b[38;5;129;01mor\u001b[39;00m _global_backward_pre_hooks \u001b[38;5;129;01mor\u001b[39;00m _global_backward_hooks\n\u001b[1;32m   1749\u001b[0m         \u001b[38;5;129;01mor\u001b[39;00m _global_forward_hooks \u001b[38;5;129;01mor\u001b[39;00m _global_forward_pre_hooks):\n\u001b[0;32m-> 1750\u001b[0m     \u001b[38;5;28;01mreturn\u001b[39;00m \u001b[43mforward_call\u001b[49m\u001b[43m(\u001b[49m\u001b[38;5;241;43m*\u001b[39;49m\u001b[43margs\u001b[49m\u001b[43m,\u001b[49m\u001b[43m \u001b[49m\u001b[38;5;241;43m*\u001b[39;49m\u001b[38;5;241;43m*\u001b[39;49m\u001b[43mkwargs\u001b[49m\u001b[43m)\u001b[49m\n\u001b[1;32m   1752\u001b[0m result \u001b[38;5;241m=\u001b[39m \u001b[38;5;28;01mNone\u001b[39;00m\n\u001b[1;32m   1753\u001b[0m called_always_called_hooks \u001b[38;5;241m=\u001b[39m \u001b[38;5;28mset\u001b[39m()\n",
      "File \u001b[0;32m~/Bureau/.venv/lib/python3.10/site-packages/sentence_transformers/models/Transformer.py:442\u001b[0m, in \u001b[0;36mTransformer.forward\u001b[0;34m(self, features, **kwargs)\u001b[0m\n\u001b[1;32m    435\u001b[0m \u001b[38;5;250m\u001b[39m\u001b[38;5;124;03m\"\"\"Returns token_embeddings, cls_token\"\"\"\u001b[39;00m\n\u001b[1;32m    436\u001b[0m trans_features \u001b[38;5;241m=\u001b[39m {\n\u001b[1;32m    437\u001b[0m     key: value\n\u001b[1;32m    438\u001b[0m     \u001b[38;5;28;01mfor\u001b[39;00m key, value \u001b[38;5;129;01min\u001b[39;00m features\u001b[38;5;241m.\u001b[39mitems()\n\u001b[1;32m    439\u001b[0m     \u001b[38;5;28;01mif\u001b[39;00m key \u001b[38;5;129;01min\u001b[39;00m [\u001b[38;5;124m\"\u001b[39m\u001b[38;5;124minput_ids\u001b[39m\u001b[38;5;124m\"\u001b[39m, \u001b[38;5;124m\"\u001b[39m\u001b[38;5;124mattention_mask\u001b[39m\u001b[38;5;124m\"\u001b[39m, \u001b[38;5;124m\"\u001b[39m\u001b[38;5;124mtoken_type_ids\u001b[39m\u001b[38;5;124m\"\u001b[39m, \u001b[38;5;124m\"\u001b[39m\u001b[38;5;124minputs_embeds\u001b[39m\u001b[38;5;124m\"\u001b[39m]\n\u001b[1;32m    440\u001b[0m }\n\u001b[0;32m--> 442\u001b[0m output_states \u001b[38;5;241m=\u001b[39m \u001b[38;5;28;43mself\u001b[39;49m\u001b[38;5;241;43m.\u001b[39;49m\u001b[43mauto_model\u001b[49m\u001b[43m(\u001b[49m\u001b[38;5;241;43m*\u001b[39;49m\u001b[38;5;241;43m*\u001b[39;49m\u001b[43mtrans_features\u001b[49m\u001b[43m,\u001b[49m\u001b[43m \u001b[49m\u001b[38;5;241;43m*\u001b[39;49m\u001b[38;5;241;43m*\u001b[39;49m\u001b[43mkwargs\u001b[49m\u001b[43m,\u001b[49m\u001b[43m \u001b[49m\u001b[43mreturn_dict\u001b[49m\u001b[38;5;241;43m=\u001b[39;49m\u001b[38;5;28;43;01mFalse\u001b[39;49;00m\u001b[43m)\u001b[49m\n\u001b[1;32m    443\u001b[0m output_tokens \u001b[38;5;241m=\u001b[39m output_states[\u001b[38;5;241m0\u001b[39m]\n\u001b[1;32m    445\u001b[0m \u001b[38;5;66;03m# If the AutoModel is wrapped with a PeftModelForFeatureExtraction, then it may have added virtual tokens\u001b[39;00m\n\u001b[1;32m    446\u001b[0m \u001b[38;5;66;03m# We need to extend the attention mask to include these virtual tokens, or the pooling will fail\u001b[39;00m\n",
      "File \u001b[0;32m~/Bureau/.venv/lib/python3.10/site-packages/torch/nn/modules/module.py:1739\u001b[0m, in \u001b[0;36mModule._wrapped_call_impl\u001b[0;34m(self, *args, **kwargs)\u001b[0m\n\u001b[1;32m   1737\u001b[0m     \u001b[38;5;28;01mreturn\u001b[39;00m \u001b[38;5;28mself\u001b[39m\u001b[38;5;241m.\u001b[39m_compiled_call_impl(\u001b[38;5;241m*\u001b[39margs, \u001b[38;5;241m*\u001b[39m\u001b[38;5;241m*\u001b[39mkwargs)  \u001b[38;5;66;03m# type: ignore[misc]\u001b[39;00m\n\u001b[1;32m   1738\u001b[0m \u001b[38;5;28;01melse\u001b[39;00m:\n\u001b[0;32m-> 1739\u001b[0m     \u001b[38;5;28;01mreturn\u001b[39;00m \u001b[38;5;28;43mself\u001b[39;49m\u001b[38;5;241;43m.\u001b[39;49m\u001b[43m_call_impl\u001b[49m\u001b[43m(\u001b[49m\u001b[38;5;241;43m*\u001b[39;49m\u001b[43margs\u001b[49m\u001b[43m,\u001b[49m\u001b[43m \u001b[49m\u001b[38;5;241;43m*\u001b[39;49m\u001b[38;5;241;43m*\u001b[39;49m\u001b[43mkwargs\u001b[49m\u001b[43m)\u001b[49m\n",
      "File \u001b[0;32m~/Bureau/.venv/lib/python3.10/site-packages/torch/nn/modules/module.py:1750\u001b[0m, in \u001b[0;36mModule._call_impl\u001b[0;34m(self, *args, **kwargs)\u001b[0m\n\u001b[1;32m   1745\u001b[0m \u001b[38;5;66;03m# If we don't have any hooks, we want to skip the rest of the logic in\u001b[39;00m\n\u001b[1;32m   1746\u001b[0m \u001b[38;5;66;03m# this function, and just call forward.\u001b[39;00m\n\u001b[1;32m   1747\u001b[0m \u001b[38;5;28;01mif\u001b[39;00m \u001b[38;5;129;01mnot\u001b[39;00m (\u001b[38;5;28mself\u001b[39m\u001b[38;5;241m.\u001b[39m_backward_hooks \u001b[38;5;129;01mor\u001b[39;00m \u001b[38;5;28mself\u001b[39m\u001b[38;5;241m.\u001b[39m_backward_pre_hooks \u001b[38;5;129;01mor\u001b[39;00m \u001b[38;5;28mself\u001b[39m\u001b[38;5;241m.\u001b[39m_forward_hooks \u001b[38;5;129;01mor\u001b[39;00m \u001b[38;5;28mself\u001b[39m\u001b[38;5;241m.\u001b[39m_forward_pre_hooks\n\u001b[1;32m   1748\u001b[0m         \u001b[38;5;129;01mor\u001b[39;00m _global_backward_pre_hooks \u001b[38;5;129;01mor\u001b[39;00m _global_backward_hooks\n\u001b[1;32m   1749\u001b[0m         \u001b[38;5;129;01mor\u001b[39;00m _global_forward_hooks \u001b[38;5;129;01mor\u001b[39;00m _global_forward_pre_hooks):\n\u001b[0;32m-> 1750\u001b[0m     \u001b[38;5;28;01mreturn\u001b[39;00m \u001b[43mforward_call\u001b[49m\u001b[43m(\u001b[49m\u001b[38;5;241;43m*\u001b[39;49m\u001b[43margs\u001b[49m\u001b[43m,\u001b[49m\u001b[43m \u001b[49m\u001b[38;5;241;43m*\u001b[39;49m\u001b[38;5;241;43m*\u001b[39;49m\u001b[43mkwargs\u001b[49m\u001b[43m)\u001b[49m\n\u001b[1;32m   1752\u001b[0m result \u001b[38;5;241m=\u001b[39m \u001b[38;5;28;01mNone\u001b[39;00m\n\u001b[1;32m   1753\u001b[0m called_always_called_hooks \u001b[38;5;241m=\u001b[39m \u001b[38;5;28mset\u001b[39m()\n",
      "File \u001b[0;32m~/Bureau/.venv/lib/python3.10/site-packages/transformers/utils/generic.py:1062\u001b[0m, in \u001b[0;36mcheck_model_inputs.<locals>.wrapper\u001b[0;34m(self, *args, **kwargs)\u001b[0m\n\u001b[1;32m   1059\u001b[0m                 module\u001b[38;5;241m.\u001b[39mforward \u001b[38;5;241m=\u001b[39m make_capture_wrapper(module, original_forward, key, specs\u001b[38;5;241m.\u001b[39mindex)\n\u001b[1;32m   1060\u001b[0m                 monkey_patched_layers\u001b[38;5;241m.\u001b[39mappend((module, original_forward))\n\u001b[0;32m-> 1062\u001b[0m outputs \u001b[38;5;241m=\u001b[39m \u001b[43mfunc\u001b[49m\u001b[43m(\u001b[49m\u001b[38;5;28;43mself\u001b[39;49m\u001b[43m,\u001b[49m\u001b[43m \u001b[49m\u001b[38;5;241;43m*\u001b[39;49m\u001b[43margs\u001b[49m\u001b[43m,\u001b[49m\u001b[43m \u001b[49m\u001b[38;5;241;43m*\u001b[39;49m\u001b[38;5;241;43m*\u001b[39;49m\u001b[43mkwargs\u001b[49m\u001b[43m)\u001b[49m\n\u001b[1;32m   1063\u001b[0m \u001b[38;5;66;03m# Restore original forward methods\u001b[39;00m\n\u001b[1;32m   1064\u001b[0m \u001b[38;5;28;01mfor\u001b[39;00m module, original_forward \u001b[38;5;129;01min\u001b[39;00m monkey_patched_layers:\n",
      "File \u001b[0;32m~/Bureau/.venv/lib/python3.10/site-packages/transformers/models/qwen3/modeling_qwen3.py:410\u001b[0m, in \u001b[0;36mQwen3Model.forward\u001b[0;34m(self, input_ids, attention_mask, position_ids, past_key_values, inputs_embeds, use_cache, cache_position, **kwargs)\u001b[0m\n\u001b[1;32m    407\u001b[0m position_embeddings \u001b[38;5;241m=\u001b[39m \u001b[38;5;28mself\u001b[39m\u001b[38;5;241m.\u001b[39mrotary_emb(hidden_states, position_ids)\n\u001b[1;32m    409\u001b[0m \u001b[38;5;28;01mfor\u001b[39;00m decoder_layer \u001b[38;5;129;01min\u001b[39;00m \u001b[38;5;28mself\u001b[39m\u001b[38;5;241m.\u001b[39mlayers[: \u001b[38;5;28mself\u001b[39m\u001b[38;5;241m.\u001b[39mconfig\u001b[38;5;241m.\u001b[39mnum_hidden_layers]:\n\u001b[0;32m--> 410\u001b[0m     hidden_states \u001b[38;5;241m=\u001b[39m \u001b[43mdecoder_layer\u001b[49m\u001b[43m(\u001b[49m\n\u001b[1;32m    411\u001b[0m \u001b[43m        \u001b[49m\u001b[43mhidden_states\u001b[49m\u001b[43m,\u001b[49m\n\u001b[1;32m    412\u001b[0m \u001b[43m        \u001b[49m\u001b[43mattention_mask\u001b[49m\u001b[38;5;241;43m=\u001b[39;49m\u001b[43mcausal_mask_mapping\u001b[49m\u001b[43m[\u001b[49m\u001b[43mdecoder_layer\u001b[49m\u001b[38;5;241;43m.\u001b[39;49m\u001b[43mattention_type\u001b[49m\u001b[43m]\u001b[49m\u001b[43m,\u001b[49m\n\u001b[1;32m    413\u001b[0m \u001b[43m        \u001b[49m\u001b[43mposition_ids\u001b[49m\u001b[38;5;241;43m=\u001b[39;49m\u001b[43mposition_ids\u001b[49m\u001b[43m,\u001b[49m\n\u001b[1;32m    414\u001b[0m \u001b[43m        \u001b[49m\u001b[43mpast_key_values\u001b[49m\u001b[38;5;241;43m=\u001b[39;49m\u001b[43mpast_key_values\u001b[49m\u001b[43m,\u001b[49m\n\u001b[1;32m    415\u001b[0m \u001b[43m        \u001b[49m\u001b[43muse_cache\u001b[49m\u001b[38;5;241;43m=\u001b[39;49m\u001b[43muse_cache\u001b[49m\u001b[43m,\u001b[49m\n\u001b[1;32m    416\u001b[0m \u001b[43m        \u001b[49m\u001b[43mcache_position\u001b[49m\u001b[38;5;241;43m=\u001b[39;49m\u001b[43mcache_position\u001b[49m\u001b[43m,\u001b[49m\n\u001b[1;32m    417\u001b[0m \u001b[43m        \u001b[49m\u001b[43mposition_embeddings\u001b[49m\u001b[38;5;241;43m=\u001b[39;49m\u001b[43mposition_embeddings\u001b[49m\u001b[43m,\u001b[49m\n\u001b[1;32m    418\u001b[0m \u001b[43m        \u001b[49m\u001b[38;5;241;43m*\u001b[39;49m\u001b[38;5;241;43m*\u001b[39;49m\u001b[43mkwargs\u001b[49m\u001b[43m,\u001b[49m\n\u001b[1;32m    419\u001b[0m \u001b[43m    \u001b[49m\u001b[43m)\u001b[49m\n\u001b[1;32m    421\u001b[0m hidden_states \u001b[38;5;241m=\u001b[39m \u001b[38;5;28mself\u001b[39m\u001b[38;5;241m.\u001b[39mnorm(hidden_states)\n\u001b[1;32m    422\u001b[0m \u001b[38;5;28;01mreturn\u001b[39;00m BaseModelOutputWithPast(\n\u001b[1;32m    423\u001b[0m     last_hidden_state\u001b[38;5;241m=\u001b[39mhidden_states,\n\u001b[1;32m    424\u001b[0m     past_key_values\u001b[38;5;241m=\u001b[39mpast_key_values \u001b[38;5;28;01mif\u001b[39;00m use_cache \u001b[38;5;28;01melse\u001b[39;00m \u001b[38;5;28;01mNone\u001b[39;00m,\n\u001b[1;32m    425\u001b[0m )\n",
      "File \u001b[0;32m~/Bureau/.venv/lib/python3.10/site-packages/transformers/modeling_layers.py:94\u001b[0m, in \u001b[0;36mGradientCheckpointingLayer.__call__\u001b[0;34m(self, *args, **kwargs)\u001b[0m\n\u001b[1;32m     91\u001b[0m         logger\u001b[38;5;241m.\u001b[39mwarning_once(message)\n\u001b[1;32m     93\u001b[0m     \u001b[38;5;28;01mreturn\u001b[39;00m \u001b[38;5;28mself\u001b[39m\u001b[38;5;241m.\u001b[39m_gradient_checkpointing_func(partial(\u001b[38;5;28msuper\u001b[39m()\u001b[38;5;241m.\u001b[39m\u001b[38;5;21m__call__\u001b[39m, \u001b[38;5;241m*\u001b[39m\u001b[38;5;241m*\u001b[39mkwargs), \u001b[38;5;241m*\u001b[39margs)\n\u001b[0;32m---> 94\u001b[0m \u001b[38;5;28;01mreturn\u001b[39;00m \u001b[38;5;28;43msuper\u001b[39;49m\u001b[43m(\u001b[49m\u001b[43m)\u001b[49m\u001b[38;5;241;43m.\u001b[39;49m\u001b[38;5;21;43m__call__\u001b[39;49m\u001b[43m(\u001b[49m\u001b[38;5;241;43m*\u001b[39;49m\u001b[43margs\u001b[49m\u001b[43m,\u001b[49m\u001b[43m \u001b[49m\u001b[38;5;241;43m*\u001b[39;49m\u001b[38;5;241;43m*\u001b[39;49m\u001b[43mkwargs\u001b[49m\u001b[43m)\u001b[49m\n",
      "File \u001b[0;32m~/Bureau/.venv/lib/python3.10/site-packages/torch/nn/modules/module.py:1739\u001b[0m, in \u001b[0;36mModule._wrapped_call_impl\u001b[0;34m(self, *args, **kwargs)\u001b[0m\n\u001b[1;32m   1737\u001b[0m     \u001b[38;5;28;01mreturn\u001b[39;00m \u001b[38;5;28mself\u001b[39m\u001b[38;5;241m.\u001b[39m_compiled_call_impl(\u001b[38;5;241m*\u001b[39margs, \u001b[38;5;241m*\u001b[39m\u001b[38;5;241m*\u001b[39mkwargs)  \u001b[38;5;66;03m# type: ignore[misc]\u001b[39;00m\n\u001b[1;32m   1738\u001b[0m \u001b[38;5;28;01melse\u001b[39;00m:\n\u001b[0;32m-> 1739\u001b[0m     \u001b[38;5;28;01mreturn\u001b[39;00m \u001b[38;5;28;43mself\u001b[39;49m\u001b[38;5;241;43m.\u001b[39;49m\u001b[43m_call_impl\u001b[49m\u001b[43m(\u001b[49m\u001b[38;5;241;43m*\u001b[39;49m\u001b[43margs\u001b[49m\u001b[43m,\u001b[49m\u001b[43m \u001b[49m\u001b[38;5;241;43m*\u001b[39;49m\u001b[38;5;241;43m*\u001b[39;49m\u001b[43mkwargs\u001b[49m\u001b[43m)\u001b[49m\n",
      "File \u001b[0;32m~/Bureau/.venv/lib/python3.10/site-packages/torch/nn/modules/module.py:1750\u001b[0m, in \u001b[0;36mModule._call_impl\u001b[0;34m(self, *args, **kwargs)\u001b[0m\n\u001b[1;32m   1745\u001b[0m \u001b[38;5;66;03m# If we don't have any hooks, we want to skip the rest of the logic in\u001b[39;00m\n\u001b[1;32m   1746\u001b[0m \u001b[38;5;66;03m# this function, and just call forward.\u001b[39;00m\n\u001b[1;32m   1747\u001b[0m \u001b[38;5;28;01mif\u001b[39;00m \u001b[38;5;129;01mnot\u001b[39;00m (\u001b[38;5;28mself\u001b[39m\u001b[38;5;241m.\u001b[39m_backward_hooks \u001b[38;5;129;01mor\u001b[39;00m \u001b[38;5;28mself\u001b[39m\u001b[38;5;241m.\u001b[39m_backward_pre_hooks \u001b[38;5;129;01mor\u001b[39;00m \u001b[38;5;28mself\u001b[39m\u001b[38;5;241m.\u001b[39m_forward_hooks \u001b[38;5;129;01mor\u001b[39;00m \u001b[38;5;28mself\u001b[39m\u001b[38;5;241m.\u001b[39m_forward_pre_hooks\n\u001b[1;32m   1748\u001b[0m         \u001b[38;5;129;01mor\u001b[39;00m _global_backward_pre_hooks \u001b[38;5;129;01mor\u001b[39;00m _global_backward_hooks\n\u001b[1;32m   1749\u001b[0m         \u001b[38;5;129;01mor\u001b[39;00m _global_forward_hooks \u001b[38;5;129;01mor\u001b[39;00m _global_forward_pre_hooks):\n\u001b[0;32m-> 1750\u001b[0m     \u001b[38;5;28;01mreturn\u001b[39;00m \u001b[43mforward_call\u001b[49m\u001b[43m(\u001b[49m\u001b[38;5;241;43m*\u001b[39;49m\u001b[43margs\u001b[49m\u001b[43m,\u001b[49m\u001b[43m \u001b[49m\u001b[38;5;241;43m*\u001b[39;49m\u001b[38;5;241;43m*\u001b[39;49m\u001b[43mkwargs\u001b[49m\u001b[43m)\u001b[49m\n\u001b[1;32m   1752\u001b[0m result \u001b[38;5;241m=\u001b[39m \u001b[38;5;28;01mNone\u001b[39;00m\n\u001b[1;32m   1753\u001b[0m called_always_called_hooks \u001b[38;5;241m=\u001b[39m \u001b[38;5;28mset\u001b[39m()\n",
      "File \u001b[0;32m~/Bureau/.venv/lib/python3.10/site-packages/transformers/utils/deprecation.py:172\u001b[0m, in \u001b[0;36mdeprecate_kwarg.<locals>.wrapper.<locals>.wrapped_func\u001b[0;34m(*args, **kwargs)\u001b[0m\n\u001b[1;32m    168\u001b[0m \u001b[38;5;28;01melif\u001b[39;00m minimum_action \u001b[38;5;129;01min\u001b[39;00m (Action\u001b[38;5;241m.\u001b[39mNOTIFY, Action\u001b[38;5;241m.\u001b[39mNOTIFY_ALWAYS) \u001b[38;5;129;01mand\u001b[39;00m \u001b[38;5;129;01mnot\u001b[39;00m is_torchdynamo_compiling():\n\u001b[1;32m    169\u001b[0m     \u001b[38;5;66;03m# DeprecationWarning is ignored by default, so we use FutureWarning instead\u001b[39;00m\n\u001b[1;32m    170\u001b[0m     warnings\u001b[38;5;241m.\u001b[39mwarn(message, \u001b[38;5;167;01mFutureWarning\u001b[39;00m, stacklevel\u001b[38;5;241m=\u001b[39m\u001b[38;5;241m2\u001b[39m)\n\u001b[0;32m--> 172\u001b[0m \u001b[38;5;28;01mreturn\u001b[39;00m \u001b[43mfunc\u001b[49m\u001b[43m(\u001b[49m\u001b[38;5;241;43m*\u001b[39;49m\u001b[43margs\u001b[49m\u001b[43m,\u001b[49m\u001b[43m \u001b[49m\u001b[38;5;241;43m*\u001b[39;49m\u001b[38;5;241;43m*\u001b[39;49m\u001b[43mkwargs\u001b[49m\u001b[43m)\u001b[49m\n",
      "File \u001b[0;32m~/Bureau/.venv/lib/python3.10/site-packages/transformers/models/qwen3/modeling_qwen3.py:260\u001b[0m, in \u001b[0;36mQwen3DecoderLayer.forward\u001b[0;34m(self, hidden_states, attention_mask, position_ids, past_key_values, use_cache, cache_position, position_embeddings, **kwargs)\u001b[0m\n\u001b[1;32m    258\u001b[0m hidden_states \u001b[38;5;241m=\u001b[39m \u001b[38;5;28mself\u001b[39m\u001b[38;5;241m.\u001b[39minput_layernorm(hidden_states)\n\u001b[1;32m    259\u001b[0m \u001b[38;5;66;03m# Self Attention\u001b[39;00m\n\u001b[0;32m--> 260\u001b[0m hidden_states, _ \u001b[38;5;241m=\u001b[39m \u001b[38;5;28;43mself\u001b[39;49m\u001b[38;5;241;43m.\u001b[39;49m\u001b[43mself_attn\u001b[49m\u001b[43m(\u001b[49m\n\u001b[1;32m    261\u001b[0m \u001b[43m    \u001b[49m\u001b[43mhidden_states\u001b[49m\u001b[38;5;241;43m=\u001b[39;49m\u001b[43mhidden_states\u001b[49m\u001b[43m,\u001b[49m\n\u001b[1;32m    262\u001b[0m \u001b[43m    \u001b[49m\u001b[43mattention_mask\u001b[49m\u001b[38;5;241;43m=\u001b[39;49m\u001b[43mattention_mask\u001b[49m\u001b[43m,\u001b[49m\n\u001b[1;32m    263\u001b[0m \u001b[43m    \u001b[49m\u001b[43mposition_ids\u001b[49m\u001b[38;5;241;43m=\u001b[39;49m\u001b[43mposition_ids\u001b[49m\u001b[43m,\u001b[49m\n\u001b[1;32m    264\u001b[0m \u001b[43m    \u001b[49m\u001b[43mpast_key_values\u001b[49m\u001b[38;5;241;43m=\u001b[39;49m\u001b[43mpast_key_values\u001b[49m\u001b[43m,\u001b[49m\n\u001b[1;32m    265\u001b[0m \u001b[43m    \u001b[49m\u001b[43muse_cache\u001b[49m\u001b[38;5;241;43m=\u001b[39;49m\u001b[43muse_cache\u001b[49m\u001b[43m,\u001b[49m\n\u001b[1;32m    266\u001b[0m \u001b[43m    \u001b[49m\u001b[43mcache_position\u001b[49m\u001b[38;5;241;43m=\u001b[39;49m\u001b[43mcache_position\u001b[49m\u001b[43m,\u001b[49m\n\u001b[1;32m    267\u001b[0m \u001b[43m    \u001b[49m\u001b[43mposition_embeddings\u001b[49m\u001b[38;5;241;43m=\u001b[39;49m\u001b[43mposition_embeddings\u001b[49m\u001b[43m,\u001b[49m\n\u001b[1;32m    268\u001b[0m \u001b[43m    \u001b[49m\u001b[38;5;241;43m*\u001b[39;49m\u001b[38;5;241;43m*\u001b[39;49m\u001b[43mkwargs\u001b[49m\u001b[43m,\u001b[49m\n\u001b[1;32m    269\u001b[0m \u001b[43m\u001b[49m\u001b[43m)\u001b[49m\n\u001b[1;32m    270\u001b[0m hidden_states \u001b[38;5;241m=\u001b[39m residual \u001b[38;5;241m+\u001b[39m hidden_states\n\u001b[1;32m    272\u001b[0m \u001b[38;5;66;03m# Fully Connected\u001b[39;00m\n",
      "File \u001b[0;32m~/Bureau/.venv/lib/python3.10/site-packages/torch/nn/modules/module.py:1739\u001b[0m, in \u001b[0;36mModule._wrapped_call_impl\u001b[0;34m(self, *args, **kwargs)\u001b[0m\n\u001b[1;32m   1737\u001b[0m     \u001b[38;5;28;01mreturn\u001b[39;00m \u001b[38;5;28mself\u001b[39m\u001b[38;5;241m.\u001b[39m_compiled_call_impl(\u001b[38;5;241m*\u001b[39margs, \u001b[38;5;241m*\u001b[39m\u001b[38;5;241m*\u001b[39mkwargs)  \u001b[38;5;66;03m# type: ignore[misc]\u001b[39;00m\n\u001b[1;32m   1738\u001b[0m \u001b[38;5;28;01melse\u001b[39;00m:\n\u001b[0;32m-> 1739\u001b[0m     \u001b[38;5;28;01mreturn\u001b[39;00m \u001b[38;5;28;43mself\u001b[39;49m\u001b[38;5;241;43m.\u001b[39;49m\u001b[43m_call_impl\u001b[49m\u001b[43m(\u001b[49m\u001b[38;5;241;43m*\u001b[39;49m\u001b[43margs\u001b[49m\u001b[43m,\u001b[49m\u001b[43m \u001b[49m\u001b[38;5;241;43m*\u001b[39;49m\u001b[38;5;241;43m*\u001b[39;49m\u001b[43mkwargs\u001b[49m\u001b[43m)\u001b[49m\n",
      "File \u001b[0;32m~/Bureau/.venv/lib/python3.10/site-packages/torch/nn/modules/module.py:1750\u001b[0m, in \u001b[0;36mModule._call_impl\u001b[0;34m(self, *args, **kwargs)\u001b[0m\n\u001b[1;32m   1745\u001b[0m \u001b[38;5;66;03m# If we don't have any hooks, we want to skip the rest of the logic in\u001b[39;00m\n\u001b[1;32m   1746\u001b[0m \u001b[38;5;66;03m# this function, and just call forward.\u001b[39;00m\n\u001b[1;32m   1747\u001b[0m \u001b[38;5;28;01mif\u001b[39;00m \u001b[38;5;129;01mnot\u001b[39;00m (\u001b[38;5;28mself\u001b[39m\u001b[38;5;241m.\u001b[39m_backward_hooks \u001b[38;5;129;01mor\u001b[39;00m \u001b[38;5;28mself\u001b[39m\u001b[38;5;241m.\u001b[39m_backward_pre_hooks \u001b[38;5;129;01mor\u001b[39;00m \u001b[38;5;28mself\u001b[39m\u001b[38;5;241m.\u001b[39m_forward_hooks \u001b[38;5;129;01mor\u001b[39;00m \u001b[38;5;28mself\u001b[39m\u001b[38;5;241m.\u001b[39m_forward_pre_hooks\n\u001b[1;32m   1748\u001b[0m         \u001b[38;5;129;01mor\u001b[39;00m _global_backward_pre_hooks \u001b[38;5;129;01mor\u001b[39;00m _global_backward_hooks\n\u001b[1;32m   1749\u001b[0m         \u001b[38;5;129;01mor\u001b[39;00m _global_forward_hooks \u001b[38;5;129;01mor\u001b[39;00m _global_forward_pre_hooks):\n\u001b[0;32m-> 1750\u001b[0m     \u001b[38;5;28;01mreturn\u001b[39;00m \u001b[43mforward_call\u001b[49m\u001b[43m(\u001b[49m\u001b[38;5;241;43m*\u001b[39;49m\u001b[43margs\u001b[49m\u001b[43m,\u001b[49m\u001b[43m \u001b[49m\u001b[38;5;241;43m*\u001b[39;49m\u001b[38;5;241;43m*\u001b[39;49m\u001b[43mkwargs\u001b[49m\u001b[43m)\u001b[49m\n\u001b[1;32m   1752\u001b[0m result \u001b[38;5;241m=\u001b[39m \u001b[38;5;28;01mNone\u001b[39;00m\n\u001b[1;32m   1753\u001b[0m called_always_called_hooks \u001b[38;5;241m=\u001b[39m \u001b[38;5;28mset\u001b[39m()\n",
      "File \u001b[0;32m~/Bureau/.venv/lib/python3.10/site-packages/transformers/utils/deprecation.py:172\u001b[0m, in \u001b[0;36mdeprecate_kwarg.<locals>.wrapper.<locals>.wrapped_func\u001b[0;34m(*args, **kwargs)\u001b[0m\n\u001b[1;32m    168\u001b[0m \u001b[38;5;28;01melif\u001b[39;00m minimum_action \u001b[38;5;129;01min\u001b[39;00m (Action\u001b[38;5;241m.\u001b[39mNOTIFY, Action\u001b[38;5;241m.\u001b[39mNOTIFY_ALWAYS) \u001b[38;5;129;01mand\u001b[39;00m \u001b[38;5;129;01mnot\u001b[39;00m is_torchdynamo_compiling():\n\u001b[1;32m    169\u001b[0m     \u001b[38;5;66;03m# DeprecationWarning is ignored by default, so we use FutureWarning instead\u001b[39;00m\n\u001b[1;32m    170\u001b[0m     warnings\u001b[38;5;241m.\u001b[39mwarn(message, \u001b[38;5;167;01mFutureWarning\u001b[39;00m, stacklevel\u001b[38;5;241m=\u001b[39m\u001b[38;5;241m2\u001b[39m)\n\u001b[0;32m--> 172\u001b[0m \u001b[38;5;28;01mreturn\u001b[39;00m \u001b[43mfunc\u001b[49m\u001b[43m(\u001b[49m\u001b[38;5;241;43m*\u001b[39;49m\u001b[43margs\u001b[49m\u001b[43m,\u001b[49m\u001b[43m \u001b[49m\u001b[38;5;241;43m*\u001b[39;49m\u001b[38;5;241;43m*\u001b[39;49m\u001b[43mkwargs\u001b[49m\u001b[43m)\u001b[49m\n",
      "File \u001b[0;32m~/Bureau/.venv/lib/python3.10/site-packages/transformers/models/qwen3/modeling_qwen3.py:216\u001b[0m, in \u001b[0;36mQwen3Attention.forward\u001b[0;34m(self, hidden_states, position_embeddings, attention_mask, past_key_values, cache_position, **kwargs)\u001b[0m\n\u001b[1;32m    213\u001b[0m \u001b[38;5;28;01mif\u001b[39;00m \u001b[38;5;28mself\u001b[39m\u001b[38;5;241m.\u001b[39mconfig\u001b[38;5;241m.\u001b[39m_attn_implementation \u001b[38;5;241m!=\u001b[39m \u001b[38;5;124m\"\u001b[39m\u001b[38;5;124meager\u001b[39m\u001b[38;5;124m\"\u001b[39m:\n\u001b[1;32m    214\u001b[0m     attention_interface \u001b[38;5;241m=\u001b[39m ALL_ATTENTION_FUNCTIONS[\u001b[38;5;28mself\u001b[39m\u001b[38;5;241m.\u001b[39mconfig\u001b[38;5;241m.\u001b[39m_attn_implementation]\n\u001b[0;32m--> 216\u001b[0m attn_output, attn_weights \u001b[38;5;241m=\u001b[39m \u001b[43mattention_interface\u001b[49m\u001b[43m(\u001b[49m\n\u001b[1;32m    217\u001b[0m \u001b[43m    \u001b[49m\u001b[38;5;28;43mself\u001b[39;49m\u001b[43m,\u001b[49m\n\u001b[1;32m    218\u001b[0m \u001b[43m    \u001b[49m\u001b[43mquery_states\u001b[49m\u001b[43m,\u001b[49m\n\u001b[1;32m    219\u001b[0m \u001b[43m    \u001b[49m\u001b[43mkey_states\u001b[49m\u001b[43m,\u001b[49m\n\u001b[1;32m    220\u001b[0m \u001b[43m    \u001b[49m\u001b[43mvalue_states\u001b[49m\u001b[43m,\u001b[49m\n\u001b[1;32m    221\u001b[0m \u001b[43m    \u001b[49m\u001b[43mattention_mask\u001b[49m\u001b[43m,\u001b[49m\n\u001b[1;32m    222\u001b[0m \u001b[43m    \u001b[49m\u001b[43mdropout\u001b[49m\u001b[38;5;241;43m=\u001b[39;49m\u001b[38;5;241;43m0.0\u001b[39;49m\u001b[43m \u001b[49m\u001b[38;5;28;43;01mif\u001b[39;49;00m\u001b[43m \u001b[49m\u001b[38;5;129;43;01mnot\u001b[39;49;00m\u001b[43m \u001b[49m\u001b[38;5;28;43mself\u001b[39;49m\u001b[38;5;241;43m.\u001b[39;49m\u001b[43mtraining\u001b[49m\u001b[43m \u001b[49m\u001b[38;5;28;43;01melse\u001b[39;49;00m\u001b[43m \u001b[49m\u001b[38;5;28;43mself\u001b[39;49m\u001b[38;5;241;43m.\u001b[39;49m\u001b[43mattention_dropout\u001b[49m\u001b[43m,\u001b[49m\n\u001b[1;32m    223\u001b[0m \u001b[43m    \u001b[49m\u001b[43mscaling\u001b[49m\u001b[38;5;241;43m=\u001b[39;49m\u001b[38;5;28;43mself\u001b[39;49m\u001b[38;5;241;43m.\u001b[39;49m\u001b[43mscaling\u001b[49m\u001b[43m,\u001b[49m\n\u001b[1;32m    224\u001b[0m \u001b[43m    \u001b[49m\u001b[43msliding_window\u001b[49m\u001b[38;5;241;43m=\u001b[39;49m\u001b[38;5;28;43mself\u001b[39;49m\u001b[38;5;241;43m.\u001b[39;49m\u001b[43msliding_window\u001b[49m\u001b[43m,\u001b[49m\u001b[43m  \u001b[49m\u001b[38;5;66;43;03m# diff with Llama\u001b[39;49;00m\n\u001b[1;32m    225\u001b[0m \u001b[43m    \u001b[49m\u001b[38;5;241;43m*\u001b[39;49m\u001b[38;5;241;43m*\u001b[39;49m\u001b[43mkwargs\u001b[49m\u001b[43m,\u001b[49m\n\u001b[1;32m    226\u001b[0m \u001b[43m\u001b[49m\u001b[43m)\u001b[49m\n\u001b[1;32m    228\u001b[0m attn_output \u001b[38;5;241m=\u001b[39m attn_output\u001b[38;5;241m.\u001b[39mreshape(\u001b[38;5;241m*\u001b[39minput_shape, \u001b[38;5;241m-\u001b[39m\u001b[38;5;241m1\u001b[39m)\u001b[38;5;241m.\u001b[39mcontiguous()\n\u001b[1;32m    229\u001b[0m attn_output \u001b[38;5;241m=\u001b[39m \u001b[38;5;28mself\u001b[39m\u001b[38;5;241m.\u001b[39mo_proj(attn_output)\n",
      "File \u001b[0;32m~/Bureau/.venv/lib/python3.10/site-packages/transformers/integrations/sdpa_attention.py:83\u001b[0m, in \u001b[0;36msdpa_attention_forward\u001b[0;34m(module, query, key, value, attention_mask, dropout, scaling, is_causal, **kwargs)\u001b[0m\n\u001b[1;32m     80\u001b[0m \u001b[38;5;28;01mif\u001b[39;00m torch\u001b[38;5;241m.\u001b[39mjit\u001b[38;5;241m.\u001b[39mis_tracing() \u001b[38;5;129;01mand\u001b[39;00m \u001b[38;5;28misinstance\u001b[39m(is_causal, torch\u001b[38;5;241m.\u001b[39mTensor):\n\u001b[1;32m     81\u001b[0m     is_causal \u001b[38;5;241m=\u001b[39m is_causal\u001b[38;5;241m.\u001b[39mitem()\n\u001b[0;32m---> 83\u001b[0m attn_output \u001b[38;5;241m=\u001b[39m \u001b[43mtorch\u001b[49m\u001b[38;5;241;43m.\u001b[39;49m\u001b[43mnn\u001b[49m\u001b[38;5;241;43m.\u001b[39;49m\u001b[43mfunctional\u001b[49m\u001b[38;5;241;43m.\u001b[39;49m\u001b[43mscaled_dot_product_attention\u001b[49m\u001b[43m(\u001b[49m\n\u001b[1;32m     84\u001b[0m \u001b[43m    \u001b[49m\u001b[43mquery\u001b[49m\u001b[43m,\u001b[49m\n\u001b[1;32m     85\u001b[0m \u001b[43m    \u001b[49m\u001b[43mkey\u001b[49m\u001b[43m,\u001b[49m\n\u001b[1;32m     86\u001b[0m \u001b[43m    \u001b[49m\u001b[43mvalue\u001b[49m\u001b[43m,\u001b[49m\n\u001b[1;32m     87\u001b[0m \u001b[43m    \u001b[49m\u001b[43mattn_mask\u001b[49m\u001b[38;5;241;43m=\u001b[39;49m\u001b[43mattention_mask\u001b[49m\u001b[43m,\u001b[49m\n\u001b[1;32m     88\u001b[0m \u001b[43m    \u001b[49m\u001b[43mdropout_p\u001b[49m\u001b[38;5;241;43m=\u001b[39;49m\u001b[43mdropout\u001b[49m\u001b[43m,\u001b[49m\n\u001b[1;32m     89\u001b[0m \u001b[43m    \u001b[49m\u001b[43mscale\u001b[49m\u001b[38;5;241;43m=\u001b[39;49m\u001b[43mscaling\u001b[49m\u001b[43m,\u001b[49m\n\u001b[1;32m     90\u001b[0m \u001b[43m    \u001b[49m\u001b[43mis_causal\u001b[49m\u001b[38;5;241;43m=\u001b[39;49m\u001b[43mis_causal\u001b[49m\u001b[43m,\u001b[49m\n\u001b[1;32m     91\u001b[0m \u001b[43m    \u001b[49m\u001b[38;5;241;43m*\u001b[39;49m\u001b[38;5;241;43m*\u001b[39;49m\u001b[43msdpa_kwargs\u001b[49m\u001b[43m,\u001b[49m\n\u001b[1;32m     92\u001b[0m \u001b[43m\u001b[49m\u001b[43m)\u001b[49m\n\u001b[1;32m     93\u001b[0m attn_output \u001b[38;5;241m=\u001b[39m attn_output\u001b[38;5;241m.\u001b[39mtranspose(\u001b[38;5;241m1\u001b[39m, \u001b[38;5;241m2\u001b[39m)\u001b[38;5;241m.\u001b[39mcontiguous()\n\u001b[1;32m     95\u001b[0m \u001b[38;5;28;01mreturn\u001b[39;00m attn_output, \u001b[38;5;28;01mNone\u001b[39;00m\n",
      "\u001b[0;31mOutOfMemoryError\u001b[0m: CUDA out of memory. Tried to allocate 256.00 MiB. GPU 0 has a total capacity of 47.53 GiB of which 251.94 MiB is free. Process 2445468 has 39.35 GiB memory in use. Including non-PyTorch memory, this process has 7.93 GiB memory in use. Of the allocated memory 7.35 GiB is allocated by PyTorch, and 271.16 MiB is reserved by PyTorch but unallocated. If reserved but unallocated memory is large try setting PYTORCH_CUDA_ALLOC_CONF=expandable_segments:True to avoid fragmentation.  See documentation for Memory Management  (https://pytorch.org/docs/stable/notes/cuda.html#environment-variables)"
     ]
    }
   ],
   "source": [
    "def split_to_df(ds, split_name):\n",
    "    rows = []\n",
    "    for ex in ds:\n",
    "        has_answer = bool(ex.get(\"answers\", {}).get(\"text\"))\n",
    "        q = ex[\"question\"]\n",
    "        c = ex[\"context\"]\n",
    "        t = ex.get(\"title\", \"\")\n",
    "        rows.append({\n",
    "            \"split\": split_name,\n",
    "            \"id\": ex[\"id\"],\n",
    "            \"title\": t,\n",
    "            \"question\": q,\n",
    "            \"context\": c,\n",
    "            \"has_answer\": has_answer,\n",
    "            \"q_len\": len(q.split()),\n",
    "            \"c_len\": len(c.split())\n",
    "        })\n",
    "    return pd.DataFrame(rows)\n",
    "\n",
    "df_train = split_to_df(dataset[\"train\"], \"train\")\n",
    "df_val   = split_to_df(dataset[\"validation\"], \"validation\")\n",
    "df = pd.concat([df_train, df_val], ignore_index=True)\n",
    "print(f\"Total samples: {len(df):,}  (train: {len(df_train):,}, val: {len(df_val):,})\")\n",
    "\n",
    "texts = [\n",
    "    build_text(t, q, c)\n",
    "    for t, q, c in zip(df[\"title\"], df[\"question\"], df[\"context\"])\n",
    "]\n",
    "\n",
    "print(\"Loading embedding model…\")\n",
    "model = SentenceTransformer(\n",
    "    EMBED_MODEL,\n",
    "    tokenizer_kwargs={\"padding_side\": \"left\"},\n",
    ")\n",
    "\n",
    "model.max_seq_length = 512\n",
    "\n",
    "print(\"Encoding texts…\")\n",
    "embeddings = model.encode(\n",
    "    texts,\n",
    "    batch_size=64,\n",
    "    show_progress_bar=True,\n",
    "    convert_to_numpy=True,\n",
    "    normalize_embeddings=True,\n",
    ")"
   ]
  },
  {
   "cell_type": "code",
   "execution_count": null,
   "id": "20894012",
   "metadata": {},
   "outputs": [],
   "source": [
    "print(\"Clustering…\")\n",
    "kmeans = KMeans(n_clusters=N_CLUSTERS, random_state=42, n_init=10)\n",
    "labels = kmeans.fit_predict(embeddings)\n",
    "\n",
    "# -------------------\n",
    "# t-SNE projection\n",
    "# -------------------\n",
    "print(\"t-SNE projection…\")\n",
    "n_samples = embeddings.shape[0]\n",
    "perp = min(TSNE_PERPLEXITY, max(5, (n_samples - 1) // 3))  # make perplexity safe\n",
    "tsne = TSNE(n_components=2, random_state=42, perplexity=perp, n_iter=TSNE_ITERS, init=\"pca\")\n",
    "emb_2d = tsne.fit_transform(embeddings)\n",
    "\n",
    "# -------------------\n",
    "# DataFrame with embeddings + clusters\n",
    "# -------------------\n",
    "df_plot = df.copy()\n",
    "df_plot[\"x\"] = emb_2d[:, 0]\n",
    "df_plot[\"y\"] = emb_2d[:, 1]\n",
    "df_plot[\"cluster\"] = labels\n",
    "\n",
    "# Short hover fields\n",
    "def shorten(s, n=140): \n",
    "    s = clean_ws(s)\n",
    "    return (s if len(s) <= n else s[:n] + \"…\")\n",
    "\n",
    "df_plot[\"hover_title\"] = df_plot[\"title\"].apply(shorten)\n",
    "df_plot[\"hover_q\"] = df_plot[\"question\"].apply(shorten)\n",
    "df_plot[\"hover_ctx\"] = df_plot[\"context\"].apply(lambda x: shorten(x, 200))\n",
    "\n",
    "# -------------------\n",
    "# Plot 1: Interactive t-SNE scatter\n",
    "# -------------------\n",
    "fig_scatter = px.scatter(\n",
    "    df_plot,\n",
    "    x=\"x\", y=\"y\",\n",
    "    color=\"cluster\",\n",
    "    hover_data={\"hover_title\": True, \"hover_q\": True, \"hover_ctx\": True, \"q_len\": True, \"c_len\": True, \"split\": True},\n",
    "    title=f\"SQuAD v2 QA Embeddings (t-SNE) — {N_CLUSTERS} clusters\"\n",
    ")\n",
    "fig_scatter.update_traces(marker=dict(size=5, opacity=0.8))\n",
    "fig_scatter.show()\n",
    "\n",
    "# -------------------\n",
    "# Plot 2: Cluster size bar chart\n",
    "# -------------------\n",
    "size_by_cluster = df_plot.groupby(\"cluster\")[\"id\"].count().reset_index().rename(columns={\"id\": \"count\"})\n",
    "fig_sizes = px.bar(\n",
    "    size_by_cluster.sort_values(\"count\", ascending=False),\n",
    "    x=\"cluster\", y=\"count\",\n",
    "    title=\"Cluster Sizes (QA pairs per cluster)\",\n",
    "    text=\"count\"\n",
    ")\n",
    "fig_sizes.update_traces(textposition=\"outside\")\n",
    "fig_sizes.show()\n",
    "\n",
    "# -------------------\n",
    "# Plot 3: Question length by cluster (box plot)\n",
    "# -------------------\n",
    "fig_qbox = px.box(\n",
    "    df_plot,\n",
    "    x=\"cluster\", y=\"q_len\",\n",
    "    title=\"Question Length by Cluster (words)\"\n",
    ")\n",
    "fig_qbox.show()\n",
    "\n",
    "# -------------------\n",
    "# Plot 4: Has-answer ratio by cluster (stacked bar)\n",
    "# -------------------\n",
    "ratio = (\n",
    "    df_plot.groupby([\"cluster\", \"has_answer\"]).size().reset_index(name=\"count\")\n",
    ")\n",
    "# pivot to compute percentages\n",
    "totals = ratio.groupby(\"cluster\")[\"count\"].transform(\"sum\")\n",
    "ratio[\"pct\"] = ratio[\"count\"] / totals\n",
    "\n",
    "fig_ratio = px.bar(\n",
    "    ratio,\n",
    "    x=\"cluster\",\n",
    "    y=\"pct\",\n",
    "    color=\"has_answer\",\n",
    "    title=\"Has-Answer Ratio by Cluster\",\n",
    "    barmode=\"stack\",\n",
    "    labels={\"pct\": \"percentage\", \"has_answer\": \"Has answer?\"}\n",
    ")\n",
    "fig_ratio.update_layout(yaxis_tickformat=\".0%\")\n",
    "fig_ratio.show()\n",
    "\n",
    "# -------------------\n",
    "# Quick descriptive stats (printed)\n",
    "# -------------------\n",
    "print(\"\\n=== Basic stats ===\")\n",
    "print(df_plot[[\"q_len\", \"c_len\"]].describe().round(2))\n",
    "print(\"\\nTop 10 clusters by size:\")\n",
    "print(size_by_cluster.sort_values(\"count\", ascending=False).head(10))\n"
   ]
  },
  {
   "cell_type": "code",
   "execution_count": null,
   "id": "62e6cdac",
   "metadata": {},
   "outputs": [
    {
     "name": "stderr",
     "output_type": "stream",
     "text": [
      "/people/rachmat/Bureau/.venv/lib/python3.10/site-packages/tqdm/auto.py:21: TqdmWarning: IProgress not found. Please update jupyter and ipywidgets. See https://ipywidgets.readthedocs.io/en/stable/user_install.html\n",
      "  from .autonotebook import tqdm as notebook_tqdm\n"
     ]
    },
    {
     "name": "stdout",
     "output_type": "stream",
     "text": [
      "Total unique titles: 477\n"
     ]
    },
    {
     "name": "stderr",
     "output_type": "stream",
     "text": [
      "Batches: 100%|██████████| 15/15 [00:00<00:00, 29.80it/s]\n",
      "/people/rachmat/Bureau/.venv/lib/python3.10/site-packages/sklearn/manifold/_t_sne.py:1164: FutureWarning: 'n_iter' was renamed to 'max_iter' in version 1.5 and will be removed in 1.7.\n",
      "  warnings.warn(\n"
     ]
    },
    {
     "data": {
      "application/vnd.plotly.v1+json": {
       "config": {
        "plotlyServerURL": "https://plot.ly"
       },
       "data": [
        {
         "customdata": [
          [
           "States_of_Germany"
          ],
          [
           "Annelid"
          ],
          [
           "Liberal_Party_of_Australia"
          ],
          [
           "FC_Barcelona"
          ],
          [
           "Capacitor"
          ],
          [
           "Predation"
          ],
          [
           "Eritrea"
          ],
          [
           "Yale_University"
          ],
          [
           "Software_testing"
          ],
          [
           "Infection"
          ],
          [
           "Asphalt"
          ],
          [
           "Guam"
          ],
          [
           "Oxygen"
          ],
          [
           "Arnold_Schwarzenegger"
          ],
          [
           "Pain"
          ],
          [
           "European_Central_Bank"
          ],
          [
           "Pharmacy"
          ],
          [
           "Sahara"
          ],
          [
           "The_Sun_(United_Kingdom)"
          ],
          [
           "Black_people"
          ],
          [
           "Late_Middle_Ages"
          ],
          [
           "Sanskrit"
          ],
          [
           "Apollo"
          ],
          [
           "Seven_Years%27_War"
          ],
          [
           "Guinea-Bissau"
          ],
          [
           "Grape"
          ],
          [
           "Beyoncé"
          ],
          [
           "Glass"
          ],
          [
           "Near_East"
          ],
          [
           "Crucifixion_of_Jesus"
          ],
          [
           "1973_oil_crisis"
          ],
          [
           "Nigeria"
          ],
          [
           "Valencia"
          ],
          [
           "Hunting"
          ],
          [
           "Raleigh,_North_Carolina"
          ],
          [
           "St._John%27s,_Newfoundland_and_Labrador"
          ],
          [
           "Melbourne"
          ],
          [
           "Washington_University_in_St._Louis"
          ],
          [
           "2008_Summer_Olympics_torch_relay"
          ],
          [
           "Canadian_Armed_Forces"
          ],
          [
           "Incandescent_light_bulb"
          ],
          [
           "History_of_science"
          ],
          [
           "Samurai"
          ],
          [
           "Miami"
          ],
          [
           "Education"
          ],
          [
           "Kathmandu"
          ],
          [
           "Alsace"
          ],
          [
           "Tibet"
          ],
          [
           "Baptists"
          ],
          [
           "Samoa"
          ],
          [
           "Amazon_rainforest"
          ],
          [
           "East_India_Company"
          ],
          [
           "Saint_Barth%C3%A9lemy"
          ],
          [
           "Neoclassical_architecture"
          ],
          [
           "Letter_case"
          ],
          [
           "Genocide"
          ],
          [
           "Mandolin"
          ],
          [
           "2008_Sichuan_earthquake"
          ],
          [
           "Philadelphia"
          ],
          [
           "Hellenistic_period"
          ],
          [
           "Protestantism"
          ],
          [
           "Federal_Aviation_Administration"
          ],
          [
           "Napoleon"
          ],
          [
           "Victoria_(Australia)"
          ],
          [
           "Madrasa"
          ],
          [
           "National_Archives_and_Records_Administration"
          ],
          [
           "Universal_Studios"
          ],
          [
           "Oklahoma_City"
          ],
          [
           "Premier_League"
          ],
          [
           "Richmond,_Virginia"
          ],
          [
           "Ctenophora"
          ],
          [
           "Railway_electrification_system"
          ],
          [
           "Nanjing"
          ],
          [
           "Memory"
          ],
          [
           "The_Legend_of_Zelda:_Twilight_Princess"
          ],
          [
           "Plymouth"
          ],
          [
           "Santa_Monica,_California"
          ],
          [
           "Scottish_Parliament"
          ],
          [
           "Korean_War"
          ],
          [
           "Data_compression"
          ],
          [
           "List_of_numbered_streets_in_Manhattan"
          ],
          [
           "High-definition_television"
          ],
          [
           "Myocardial_infarction"
          ],
          [
           "British_Empire"
          ],
          [
           "Detroit"
          ],
          [
           "Phonology"
          ],
          [
           "Mary_(mother_of_Jesus)"
          ],
          [
           "Hydrogen"
          ],
          [
           "Symbiosis"
          ],
          [
           "51st_state"
          ],
          [
           "London"
          ],
          [
           "Alloy"
          ],
          [
           "Dog"
          ],
          [
           "United_States_Army"
          ],
          [
           "Myanmar"
          ],
          [
           "Digimon"
          ],
          [
           "Packet_switching"
          ],
          [
           "Swaziland"
          ],
          [
           "Cork_(city)"
          ],
          [
           "University"
          ],
          [
           "Josip_Broz_Tito"
          ],
          [
           "Computer_security"
          ],
          [
           "Windows_8"
          ],
          [
           "Yuan_dynasty"
          ],
          [
           "Elevator"
          ],
          [
           "Freemasonry"
          ],
          [
           "Sino-Tibetan_relations_during_the_Ming_dynasty"
          ],
          [
           "Order_of_the_British_Empire"
          ],
          [
           "United_States_dollar"
          ],
          [
           "Time"
          ],
          [
           "Prime_number"
          ],
          [
           "Computational_complexity_theory"
          ],
          [
           "History_of_India"
          ],
          [
           "Switzerland"
          ],
          [
           "FA_Cup"
          ],
          [
           "Frédéric_Chopin"
          ],
          [
           "Sky_(United_Kingdom)"
          ],
          [
           "North_Carolina"
          ],
          [
           "Cubism"
          ],
          [
           "Szlachta"
          ],
          [
           "United_States_presidential_election,_2004"
          ],
          [
           "Greece"
          ],
          [
           "Empiricism"
          ],
          [
           "Human_Development_Index"
          ],
          [
           "Dutch_language"
          ],
          [
           "Harvard_University"
          ],
          [
           "Florida"
          ],
          [
           "Race_and_ethnicity_in_the_United_States_Census"
          ],
          [
           "Asthma"
          ],
          [
           "Labour_Party_(UK)"
          ],
          [
           "Anthropology"
          ],
          [
           "Edmund_Burke"
          ],
          [
           "Gregorian_calendar"
          ],
          [
           "New_Haven,_Connecticut"
          ],
          [
           "Economic_inequality"
          ],
          [
           "MP3"
          ],
          [
           "Fresno,_California"
          ],
          [
           "Heresy"
          ],
          [
           "Seattle"
          ],
          [
           "Zinc"
          ],
          [
           "Age_of_Enlightenment"
          ],
          [
           "IBM"
          ],
          [
           "Molotov%E2%80%93Ribbentrop_Pact"
          ],
          [
           "Adolescence"
          ],
          [
           "Sichuan"
          ],
          [
           "Tristan_da_Cunha"
          ],
          [
           "Geological_history_of_Earth"
          ],
          [
           "Wayback_Machine"
          ],
          [
           "Royal_assent"
          ],
          [
           "Printed_circuit_board"
          ],
          [
           "Sexual_orientation"
          ],
          [
           "Nintendo_Entertainment_System"
          ],
          [
           "Estonian_language"
          ],
          [
           "Bacteria"
          ],
          [
           "Bill_%26_Melinda_Gates_Foundation"
          ],
          [
           "Light-emitting_diode"
          ],
          [
           "Antenna_(radio)"
          ],
          [
           "Sony_Music_Entertainment"
          ],
          [
           "Hyderabad"
          ],
          [
           "Hindu_philosophy"
          ],
          [
           "Saint_Helena"
          ],
          [
           "Animal"
          ],
          [
           "Alaska"
          ],
          [
           "Atlantic_City,_New_Jersey"
          ],
          [
           "Pacific_War"
          ],
          [
           "England_national_football_team"
          ],
          [
           "Planck_constant"
          ],
          [
           "Madonna_(entertainer)"
          ],
          [
           "Multiracial_American"
          ],
          [
           "Force"
          ],
          [
           "New_York_City"
          ],
          [
           "Friedrich_Hayek"
          ],
          [
           "Canadian_football"
          ],
          [
           "European_Union_law"
          ],
          [
           "Transistor"
          ],
          [
           "Queen_(band)"
          ],
          [
           "YouTube"
          ],
          [
           "Gramophone_record"
          ],
          [
           "Renewable_energy_commercialization"
          ],
          [
           "Central_African_Republic"
          ],
          [
           "Separation_of_powers_under_the_United_States_Constitution"
          ],
          [
           "Immunology"
          ],
          [
           "Brigham_Young_University"
          ],
          [
           "Armenians"
          ],
          [
           "Central_Intelligence_Agency"
          ],
          [
           "Gothic_architecture"
          ],
          [
           "Copyright_infringement"
          ],
          [
           "Spanish_language_in_the_United_States"
          ],
          [
           "Ann_Arbor,_Michigan"
          ],
          [
           "Bird"
          ],
          [
           "Montana"
          ],
          [
           "Northwestern_University"
          ],
          [
           "Aircraft_carrier"
          ],
          [
           "Imperialism"
          ],
          [
           "Materialism"
          ],
          [
           "Dutch_Republic"
          ],
          [
           "Pharmaceutical_industry"
          ],
          [
           "Imperial_College_London"
          ],
          [
           "Antarctica"
          ],
          [
           "Tennessee"
          ],
          [
           "Tajikistan"
          ],
          [
           "Comcast"
          ],
          [
           "Pope_Paul_VI"
          ],
          [
           "Computer"
          ],
          [
           "Muammar_Gaddafi"
          ],
          [
           "Hard_rock"
          ],
          [
           "Association_football"
          ],
          [
           "Classical_music"
          ],
          [
           "Alfred_North_Whitehead"
          ],
          [
           "Solar_energy"
          ],
          [
           "ASCII"
          ],
          [
           "Comics"
          ],
          [
           "Separation_of_church_and_state_in_the_United_States"
          ],
          [
           "Anti-aircraft_warfare"
          ],
          [
           "Neolithic"
          ],
          [
           "Warsaw"
          ],
          [
           "Affirmative_action_in_the_United_States"
          ],
          [
           "Rhine"
          ],
          [
           "Hunter-gatherer"
          ],
          [
           "Lancashire"
          ],
          [
           "Emotion"
          ],
          [
           "Flowering_plant"
          ],
          [
           "Mesozoic"
          ],
          [
           "Civil_disobedience"
          ],
          [
           "Ottoman_Empire"
          ],
          [
           "Marshall_Islands"
          ],
          [
           "Cyprus"
          ],
          [
           "Islamism"
          ],
          [
           "East_Prussia"
          ],
          [
           "Idealism"
          ],
          [
           "Carnival"
          ],
          [
           "Copper"
          ],
          [
           "Pesticide"
          ],
          [
           "Gymnastics"
          ],
          [
           "Architecture"
          ],
          [
           "Comprehensive_school"
          ],
          [
           "Intergovernmental_Panel_on_Climate_Change"
          ],
          [
           "Liberia"
          ],
          [
           "Avicenna"
          ],
          [
           "Karl_Popper"
          ],
          [
           "Insect"
          ],
          [
           "Qing_dynasty"
          ],
          [
           "Institute_of_technology"
          ],
          [
           "Galicia_(Spain)"
          ],
          [
           "Paper"
          ],
          [
           "Strasbourg"
          ],
          [
           "Immaculate_Conception"
          ],
          [
           "Diarrhea"
          ],
          [
           "Everton_F.C."
          ],
          [
           "Crimean_War"
          ],
          [
           "Space_Race"
          ],
          [
           "Slavs"
          ],
          [
           "Athanasius_of_Alexandria"
          ],
          [
           "Nutrition"
          ],
          [
           "Communication"
          ],
          [
           "Elizabeth_II"
          ],
          [
           "God"
          ],
          [
           "John_Kerry"
          ],
          [
           "Antibiotics"
          ],
          [
           "Neptune"
          ],
          [
           "Huguenot"
          ],
          [
           "University_of_Chicago"
          ],
          [
           "Bras%C3%ADlia"
          ],
          [
           "Chicago_Cubs"
          ],
          [
           "Czech_language"
          ],
          [
           "Catalan_language"
          ],
          [
           "Houston"
          ],
          [
           "Somalis"
          ],
          [
           "Lighting"
          ],
          [
           "Military_history_of_the_United_States"
          ],
          [
           "Tucson,_Arizona"
          ],
          [
           "Bird_migration"
          ],
          [
           "Great_Plains"
          ],
          [
           "Biodiversity"
          ],
          [
           "USB"
          ],
          [
           "Gamal_Abdel_Nasser"
          ],
          [
           "The_Times"
          ],
          [
           "Spectre_(2015_film)"
          ],
          [
           "University_of_Kansas"
          ],
          [
           "Botany"
          ],
          [
           "Airport"
          ],
          [
           "Russian_Soviet_Federative_Socialist_Republic"
          ],
          [
           "Alps"
          ],
          [
           "Red"
          ],
          [
           "Dissolution_of_the_Soviet_Union"
          ],
          [
           "Cotton"
          ],
          [
           "Child_labour"
          ],
          [
           "Translation"
          ],
          [
           "Mali"
          ],
          [
           "Green"
          ],
          [
           "Presbyterianism"
          ],
          [
           "House_music"
          ],
          [
           "Steven_Spielberg"
          ],
          [
           "Digestion"
          ],
          [
           "Matter"
          ],
          [
           "Imamah_(Shia_doctrine)"
          ],
          [
           "CBC_Television"
          ],
          [
           "Germans"
          ],
          [
           "Federal_Bureau_of_Investigation"
          ],
          [
           "New_Delhi"
          ],
          [
           "Boston"
          ],
          [
           "Zhejiang"
          ],
          [
           "Steam_engine"
          ],
          [
           "Prime_minister"
          ],
          [
           "Franco-Prussian_War"
          ],
          [
           "Economy_of_Greece"
          ],
          [
           "Genome"
          ],
          [
           "British_Isles"
          ],
          [
           "Xbox_360"
          ],
          [
           "Buckingham_Palace"
          ],
          [
           "Super_Nintendo_Entertainment_System"
          ],
          [
           "Indigenous_peoples_of_the_Americas"
          ],
          [
           "Unicode"
          ],
          [
           "Estonia"
          ],
          [
           "Cardinal_(Catholicism)"
          ],
          [
           "Marvel_Comics"
          ],
          [
           "Royal_Institute_of_British_Architects"
          ],
          [
           "Umayyad_Caliphate"
          ],
          [
           "San_Diego"
          ],
          [
           "Kanye_West"
          ],
          [
           "Bermuda"
          ],
          [
           "John,_King_of_England"
          ],
          [
           "Alexander_Graham_Bell"
          ],
          [
           "Geography_of_the_United_States"
          ],
          [
           "Gene"
          ],
          [
           "Dell"
          ],
          [
           "LaserDisc"
          ],
          [
           "Exhibition_game"
          ],
          [
           "Endangered_Species_Act"
          ],
          [
           "Supreme_court"
          ],
          [
           "Orthodox_Judaism"
          ],
          [
           "Ashkenazi_Jews"
          ],
          [
           "Race_(human_categorization)"
          ],
          [
           "BeiDou_Navigation_Satellite_System"
          ],
          [
           "Israel"
          ],
          [
           "Jews"
          ],
          [
           "Wood"
          ],
          [
           "Portugal"
          ],
          [
           "Pope_John_XXIII"
          ],
          [
           "Capital_punishment_in_the_United_States"
          ],
          [
           "Compact_disc"
          ],
          [
           "Humanism"
          ],
          [
           "Christian"
          ],
          [
           "Professional_wrestling"
          ],
          [
           "Philosophy_of_space_and_time"
          ],
          [
           "Glacier"
          ],
          [
           "Eton_College"
          ],
          [
           "Egypt"
          ],
          [
           "United_States_Air_Force"
          ],
          [
           "Virgil"
          ],
          [
           "Queen_Victoria"
          ],
          [
           "Hokkien"
          ],
          [
           "Department_store"
          ],
          [
           "Quran"
          ],
          [
           "Heian_period"
          ],
          [
           "PlayStation_3"
          ],
          [
           "Arena_Football_League"
          ],
          [
           "Chihuahua_(state)"
          ],
          [
           "Arsenal_F.C."
          ],
          [
           "Financial_crisis_of_2007%E2%80%9308"
          ],
          [
           "Energy"
          ],
          [
           "Paris"
          ],
          [
           "Warsaw_Pact"
          ],
          [
           "Palermo"
          ],
          [
           "Sumer"
          ],
          [
           "Old_English"
          ],
          [
           "Web_browser"
          ],
          [
           "Rajasthan"
          ],
          [
           "George_VI"
          ],
          [
           "Muslim_world"
          ],
          [
           "Han_dynasty"
          ],
          [
           "Great_power"
          ],
          [
           "Police"
          ],
          [
           "Textual_criticism"
          ],
          [
           "Canon_law"
          ],
          [
           "To_Kill_a_Mockingbird"
          ],
          [
           "Pub"
          ],
          [
           "Mosaic"
          ],
          [
           "Southampton"
          ],
          [
           "On_the_Origin_of_Species"
          ],
          [
           "Macintosh"
          ],
          [
           "Jehovah%27s_Witnesses"
          ],
          [
           "Religion_in_ancient_Rome"
          ],
          [
           "Culture"
          ],
          [
           "Treaty"
          ],
          [
           "Bern"
          ],
          [
           "Serbo-Croatian"
          ],
          [
           "Iran"
          ],
          [
           "Himachal_Pradesh"
          ],
          [
           "Film_speed"
          ],
          [
           "Charleston,_South_Carolina"
          ],
          [
           "Videoconferencing"
          ],
          [
           "Iranian_languages"
          ],
          [
           "Thuringia"
          ],
          [
           "Geology"
          ],
          [
           "Norfolk_Island"
          ],
          [
           "Buddhism"
          ],
          [
           "Montevideo"
          ],
          [
           "Mexico_City"
          ],
          [
           "Kievan_Rus%27"
          ],
          [
           "Party_leaders_of_the_United_States_House_of_Representatives"
          ],
          [
           "Southeast_Asia"
          ],
          [
           "Law_of_the_United_States"
          ],
          [
           "Private_school"
          ],
          [
           "Westminster_Abbey"
          ],
          [
           "Internet_service_provider"
          ],
          [
           "Daylight_saving_time"
          ],
          [
           "Pitch_(music)"
          ],
          [
           "United_Nations_Population_Fund"
          ],
          [
           "Beer"
          ],
          [
           "Infrared"
          ],
          [
           "Post-punk"
          ],
          [
           "Rule_of_law"
          ],
          [
           "Political_corruption"
          ],
          [
           "Group_(mathematics)"
          ],
          [
           "Roman_Republic"
          ],
          [
           "Poultry"
          ],
          [
           "Database"
          ],
          [
           "BBC_Television"
          ],
          [
           "Brain"
          ],
          [
           "Southern_Europe"
          ],
          [
           "Aspirated_consonant"
          ],
          [
           "Black_Death"
          ],
          [
           "Political_party"
          ],
          [
           "Modern_history"
          ],
          [
           "Tuvalu"
          ],
          [
           "French_and_Indian_War"
          ],
          [
           "Somerset"
          ],
          [
           "Clothing"
          ],
          [
           "Circadian_rhythm"
          ],
          [
           "A_cappella"
          ],
          [
           "Uranium"
          ],
          [
           "War_on_Terror"
          ],
          [
           "Jacksonville,_Florida"
          ],
          [
           "American_Idol"
          ],
          [
           "Literature"
          ],
          [
           "Georgian_architecture"
          ],
          [
           "The_Blitz"
          ],
          [
           "Ministry_of_Defence_(United_Kingdom)"
          ],
          [
           "Royal_Dutch_Shell"
          ],
          [
           "Communications_in_Somalia"
          ],
          [
           "Namibia"
          ],
          [
           "Identity_(social_science)"
          ],
          [
           "Vacuum"
          ],
          [
           "Punjab,_Pakistan"
          ],
          [
           "Richard_Feynman"
          ],
          [
           "Middle_Ages"
          ],
          [
           "Political_philosophy"
          ],
          [
           "The_Bronx"
          ],
          [
           "Nonprofit_organization"
          ],
          [
           "Turner_Classic_Movies"
          ],
          [
           "Oklahoma"
          ],
          [
           "Southern_California"
          ],
          [
           "Mammal"
          ],
          [
           "Utrecht"
          ],
          [
           "Dialect"
          ],
          [
           "University_of_Notre_Dame"
          ],
          [
           "John_von_Neumann"
          ],
          [
           "Adult_contemporary_music"
          ],
          [
           "Russian_language"
          ],
          [
           "Intellectual_property"
          ],
          [
           "Hanover"
          ],
          [
           "General_Electric"
          ],
          [
           "Republic_of_the_Congo"
          ],
          [
           "Greeks"
          ],
          [
           "Electric_motor"
          ],
          [
           "Construction"
          ],
          [
           "Appalachian_Mountains"
          ],
          [
           "Chinese_characters"
          ],
          [
           "Normans"
          ],
          [
           "Dominican_Order"
          ],
          [
           "Dwight_D._Eisenhower"
          ],
          [
           "Immune_system"
          ],
          [
           "Federalism"
          ],
          [
           "IPod"
          ],
          [
           "Armenia"
          ],
          [
           "Tuberculosis"
          ]
         ],
         "hovertemplate": "x=%{x}<br>y=%{y}<br>title=%{customdata[0]}<br>cluster=%{marker.color}<extra></extra>",
         "legendgroup": "",
         "marker": {
          "color": {
           "bdata": "AAAAAAYAAAAFAAAACAAAAAcAAAAGAAAACQAAAAMAAAABAAAABgAAAAcAAAAJAAAABgAAAAUAAAAHAAAAAAAAAAkAAAAJAAAABQAAAAgAAAAEAAAABAAAAAcAAAAFAAAACQAAAAYAAAAHAAAABwAAAAIAAAAEAAAABQAAAAkAAAACAAAABwAAAAIAAAACAAAAAgAAAAMAAAABAAAABQAAAAEAAAADAAAABwAAAAIAAAAHAAAACQAAAAAAAAAJAAAABAAAAAkAAAAJAAAACQAAAAEAAAAEAAAAAQAAAAYAAAAHAAAABQAAAAIAAAAEAAAABAAAAAUAAAAFAAAACAAAAAMAAAAFAAAACAAAAAIAAAAIAAAAAgAAAAYAAAABAAAACQAAAAcAAAAIAAAAAgAAAAIAAAAIAAAABQAAAAEAAAAIAAAACAAAAAEAAAAFAAAAAgAAAAAAAAAEAAAABgAAAAYAAAAFAAAAAgAAAAcAAAAHAAAABQAAAAkAAAAHAAAAAQAAAAkAAAAIAAAAAwAAAAUAAAABAAAAAQAAAAkAAAAHAAAABAAAAAEAAAAFAAAABQAAAAcAAAABAAAAAQAAAAUAAAAJAAAACAAAAAgAAAAIAAAAAgAAAAcAAAAAAAAABQAAAAkAAAAEAAAAAQAAAAAAAAADAAAAAgAAAAUAAAAGAAAACAAAAAQAAAAIAAAAAQAAAAIAAAABAAAABwAAAAIAAAAEAAAAAgAAAAYAAAAEAAAABwAAAAEAAAAHAAAACQAAAAgAAAAFAAAAAQAAAAUAAAABAAAABAAAAAgAAAAAAAAABgAAAAUAAAABAAAAAQAAAAgAAAAJAAAABAAAAAIAAAAHAAAACQAAAAIAAAAFAAAACAAAAAEAAAAIAAAABQAAAAcAAAACAAAAAAAAAAgAAAAAAAAABwAAAAgAAAAHAAAACAAAAAEAAAAJAAAABQAAAAYAAAADAAAACQAAAAUAAAAEAAAACAAAAAAAAAACAAAABwAAAAIAAAADAAAABQAAAAUAAAAEAAAAAAAAAAMAAAADAAAACQAAAAIAAAAJAAAACAAAAAUAAAAHAAAABQAAAAgAAAAIAAAACAAAAAgAAAABAAAAAQAAAAcAAAAEAAAABQAAAAQAAAAAAAAABQAAAAAAAAAHAAAAAgAAAAcAAAABAAAABgAAAAQAAAAFAAAAAgAAAAkAAAAEAAAAAAAAAAQAAAAHAAAABwAAAAYAAAAHAAAABwAAAAMAAAABAAAACQAAAAgAAAAIAAAABgAAAAUAAAADAAAAAAAAAAcAAAAAAAAABAAAAAYAAAAIAAAABQAAAAEAAAAAAAAACAAAAAYAAAAHAAAACAAAAAcAAAAFAAAABgAAAAkAAAAAAAAAAwAAAAEAAAAIAAAAAAAAAAAAAAACAAAACQAAAAcAAAAFAAAAAgAAAAEAAAAFAAAABgAAAAcAAAAFAAAACAAAAAgAAAADAAAABgAAAAkAAAAFAAAACQAAAAcAAAAFAAAABgAAAAgAAAAAAAAACQAAAAcAAAAEAAAACAAAAAUAAAAGAAAABwAAAAQAAAAIAAAAAAAAAAUAAAAJAAAAAgAAAAIAAAABAAAABQAAAAAAAAABAAAABgAAAAgAAAAIAAAACAAAAAgAAAAFAAAAAQAAAAkAAAAEAAAABQAAAAMAAAAEAAAAAgAAAAUAAAAJAAAABQAAAAgAAAACAAAABgAAAAcAAAABAAAACAAAAAUAAAAFAAAABAAAAAQAAAAEAAAAAQAAAAkAAAAEAAAABwAAAAkAAAAFAAAABQAAAAEAAAAEAAAABAAAAAgAAAAEAAAACQAAAAMAAAAJAAAABQAAAAgAAAAIAAAABwAAAAgAAAAEAAAAAQAAAAgAAAAIAAAAAAAAAAgAAAABAAAABwAAAAkAAAAAAAAACQAAAAcAAAAAAAAAAQAAAAkAAAAIAAAABAAAAAUAAAABAAAABwAAAAQAAAAEAAAABgAAAAgAAAAGAAAAAgAAAAYAAAAHAAAABAAAAAQAAAAHAAAABQAAAAkAAAAAAAAACQAAAAkAAAABAAAAAgAAAAgAAAAAAAAACQAAAAQAAAACAAAABAAAAAkAAAACAAAAAAAAAAUAAAAJAAAABQAAAAMAAAAIAAAAAQAAAAEAAAAIAAAABQAAAAcAAAAHAAAABwAAAAEAAAAFAAAAAQAAAAUAAAAGAAAACAAAAAgAAAAHAAAAAAAAAAEAAAAIAAAABQAAAAQAAAAJAAAABQAAAAIAAAAHAAAAAQAAAAgAAAAGAAAABQAAAAIAAAAIAAAABwAAAAAAAAAIAAAABQAAAAAAAAAFAAAACQAAAAQAAAAHAAAACQAAAAUAAAAEAAAABAAAAAgAAAAEAAAACAAAAAIAAAACAAAABwAAAAAAAAAAAAAAAwAAAAUAAAAIAAAAAAAAAAEAAAAAAAAABQAAAAUAAAAEAAAAAQAAAAcAAAACAAAAAQAAAAIAAAAFAAAABQAAAAYAAAAEAAAABwAAAAkAAAAGAAAA",
           "dtype": "i4"
          },
          "coloraxis": "coloraxis",
          "symbol": "circle"
         },
         "mode": "markers",
         "name": "",
         "orientation": "v",
         "showlegend": false,
         "type": "scatter",
         "x": {
          "bdata": "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",
          "dtype": "f4"
         },
         "xaxis": "x",
         "y": {
          "bdata": "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",
          "dtype": "f4"
         },
         "yaxis": "y"
        }
       ],
       "layout": {
        "coloraxis": {
         "colorbar": {
          "title": {
           "text": "cluster"
          }
         },
         "colorscale": [
          [
           0,
           "#0d0887"
          ],
          [
           0.1111111111111111,
           "#46039f"
          ],
          [
           0.2222222222222222,
           "#7201a8"
          ],
          [
           0.3333333333333333,
           "#9c179e"
          ],
          [
           0.4444444444444444,
           "#bd3786"
          ],
          [
           0.5555555555555556,
           "#d8576b"
          ],
          [
           0.6666666666666666,
           "#ed7953"
          ],
          [
           0.7777777777777778,
           "#fb9f3a"
          ],
          [
           0.8888888888888888,
           "#fdca26"
          ],
          [
           1,
           "#f0f921"
          ]
         ]
        },
        "legend": {
         "tracegroupgap": 0
        },
        "template": {
         "data": {
          "bar": [
           {
            "error_x": {
             "color": "#2a3f5f"
            },
            "error_y": {
             "color": "#2a3f5f"
            },
            "marker": {
             "line": {
              "color": "#E5ECF6",
              "width": 0.5
             },
             "pattern": {
              "fillmode": "overlay",
              "size": 10,
              "solidity": 0.2
             }
            },
            "type": "bar"
           }
          ],
          "barpolar": [
           {
            "marker": {
             "line": {
              "color": "#E5ECF6",
              "width": 0.5
             },
             "pattern": {
              "fillmode": "overlay",
              "size": 10,
              "solidity": 0.2
             }
            },
            "type": "barpolar"
           }
          ],
          "carpet": [
           {
            "aaxis": {
             "endlinecolor": "#2a3f5f",
             "gridcolor": "white",
             "linecolor": "white",
             "minorgridcolor": "white",
             "startlinecolor": "#2a3f5f"
            },
            "baxis": {
             "endlinecolor": "#2a3f5f",
             "gridcolor": "white",
             "linecolor": "white",
             "minorgridcolor": "white",
             "startlinecolor": "#2a3f5f"
            },
            "type": "carpet"
           }
          ],
          "choropleth": [
           {
            "colorbar": {
             "outlinewidth": 0,
             "ticks": ""
            },
            "type": "choropleth"
           }
          ],
          "contour": [
           {
            "colorbar": {
             "outlinewidth": 0,
             "ticks": ""
            },
            "colorscale": [
             [
              0,
              "#0d0887"
             ],
             [
              0.1111111111111111,
              "#46039f"
             ],
             [
              0.2222222222222222,
              "#7201a8"
             ],
             [
              0.3333333333333333,
              "#9c179e"
             ],
             [
              0.4444444444444444,
              "#bd3786"
             ],
             [
              0.5555555555555556,
              "#d8576b"
             ],
             [
              0.6666666666666666,
              "#ed7953"
             ],
             [
              0.7777777777777778,
              "#fb9f3a"
             ],
             [
              0.8888888888888888,
              "#fdca26"
             ],
             [
              1,
              "#f0f921"
             ]
            ],
            "type": "contour"
           }
          ],
          "contourcarpet": [
           {
            "colorbar": {
             "outlinewidth": 0,
             "ticks": ""
            },
            "type": "contourcarpet"
           }
          ],
          "heatmap": [
           {
            "colorbar": {
             "outlinewidth": 0,
             "ticks": ""
            },
            "colorscale": [
             [
              0,
              "#0d0887"
             ],
             [
              0.1111111111111111,
              "#46039f"
             ],
             [
              0.2222222222222222,
              "#7201a8"
             ],
             [
              0.3333333333333333,
              "#9c179e"
             ],
             [
              0.4444444444444444,
              "#bd3786"
             ],
             [
              0.5555555555555556,
              "#d8576b"
             ],
             [
              0.6666666666666666,
              "#ed7953"
             ],
             [
              0.7777777777777778,
              "#fb9f3a"
             ],
             [
              0.8888888888888888,
              "#fdca26"
             ],
             [
              1,
              "#f0f921"
             ]
            ],
            "type": "heatmap"
           }
          ],
          "histogram": [
           {
            "marker": {
             "pattern": {
              "fillmode": "overlay",
              "size": 10,
              "solidity": 0.2
             }
            },
            "type": "histogram"
           }
          ],
          "histogram2d": [
           {
            "colorbar": {
             "outlinewidth": 0,
             "ticks": ""
            },
            "colorscale": [
             [
              0,
              "#0d0887"
             ],
             [
              0.1111111111111111,
              "#46039f"
             ],
             [
              0.2222222222222222,
              "#7201a8"
             ],
             [
              0.3333333333333333,
              "#9c179e"
             ],
             [
              0.4444444444444444,
              "#bd3786"
             ],
             [
              0.5555555555555556,
              "#d8576b"
             ],
             [
              0.6666666666666666,
              "#ed7953"
             ],
             [
              0.7777777777777778,
              "#fb9f3a"
             ],
             [
              0.8888888888888888,
              "#fdca26"
             ],
             [
              1,
              "#f0f921"
             ]
            ],
            "type": "histogram2d"
           }
          ],
          "histogram2dcontour": [
           {
            "colorbar": {
             "outlinewidth": 0,
             "ticks": ""
            },
            "colorscale": [
             [
              0,
              "#0d0887"
             ],
             [
              0.1111111111111111,
              "#46039f"
             ],
             [
              0.2222222222222222,
              "#7201a8"
             ],
             [
              0.3333333333333333,
              "#9c179e"
             ],
             [
              0.4444444444444444,
              "#bd3786"
             ],
             [
              0.5555555555555556,
              "#d8576b"
             ],
             [
              0.6666666666666666,
              "#ed7953"
             ],
             [
              0.7777777777777778,
              "#fb9f3a"
             ],
             [
              0.8888888888888888,
              "#fdca26"
             ],
             [
              1,
              "#f0f921"
             ]
            ],
            "type": "histogram2dcontour"
           }
          ],
          "mesh3d": [
           {
            "colorbar": {
             "outlinewidth": 0,
             "ticks": ""
            },
            "type": "mesh3d"
           }
          ],
          "parcoords": [
           {
            "line": {
             "colorbar": {
              "outlinewidth": 0,
              "ticks": ""
             }
            },
            "type": "parcoords"
           }
          ],
          "pie": [
           {
            "automargin": true,
            "type": "pie"
           }
          ],
          "scatter": [
           {
            "fillpattern": {
             "fillmode": "overlay",
             "size": 10,
             "solidity": 0.2
            },
            "type": "scatter"
           }
          ],
          "scatter3d": [
           {
            "line": {
             "colorbar": {
              "outlinewidth": 0,
              "ticks": ""
             }
            },
            "marker": {
             "colorbar": {
              "outlinewidth": 0,
              "ticks": ""
             }
            },
            "type": "scatter3d"
           }
          ],
          "scattercarpet": [
           {
            "marker": {
             "colorbar": {
              "outlinewidth": 0,
              "ticks": ""
             }
            },
            "type": "scattercarpet"
           }
          ],
          "scattergeo": [
           {
            "marker": {
             "colorbar": {
              "outlinewidth": 0,
              "ticks": ""
             }
            },
            "type": "scattergeo"
           }
          ],
          "scattergl": [
           {
            "marker": {
             "colorbar": {
              "outlinewidth": 0,
              "ticks": ""
             }
            },
            "type": "scattergl"
           }
          ],
          "scattermap": [
           {
            "marker": {
             "colorbar": {
              "outlinewidth": 0,
              "ticks": ""
             }
            },
            "type": "scattermap"
           }
          ],
          "scattermapbox": [
           {
            "marker": {
             "colorbar": {
              "outlinewidth": 0,
              "ticks": ""
             }
            },
            "type": "scattermapbox"
           }
          ],
          "scatterpolar": [
           {
            "marker": {
             "colorbar": {
              "outlinewidth": 0,
              "ticks": ""
             }
            },
            "type": "scatterpolar"
           }
          ],
          "scatterpolargl": [
           {
            "marker": {
             "colorbar": {
              "outlinewidth": 0,
              "ticks": ""
             }
            },
            "type": "scatterpolargl"
           }
          ],
          "scatterternary": [
           {
            "marker": {
             "colorbar": {
              "outlinewidth": 0,
              "ticks": ""
             }
            },
            "type": "scatterternary"
           }
          ],
          "surface": [
           {
            "colorbar": {
             "outlinewidth": 0,
             "ticks": ""
            },
            "colorscale": [
             [
              0,
              "#0d0887"
             ],
             [
              0.1111111111111111,
              "#46039f"
             ],
             [
              0.2222222222222222,
              "#7201a8"
             ],
             [
              0.3333333333333333,
              "#9c179e"
             ],
             [
              0.4444444444444444,
              "#bd3786"
             ],
             [
              0.5555555555555556,
              "#d8576b"
             ],
             [
              0.6666666666666666,
              "#ed7953"
             ],
             [
              0.7777777777777778,
              "#fb9f3a"
             ],
             [
              0.8888888888888888,
              "#fdca26"
             ],
             [
              1,
              "#f0f921"
             ]
            ],
            "type": "surface"
           }
          ],
          "table": [
           {
            "cells": {
             "fill": {
              "color": "#EBF0F8"
             },
             "line": {
              "color": "white"
             }
            },
            "header": {
             "fill": {
              "color": "#C8D4E3"
             },
             "line": {
              "color": "white"
             }
            },
            "type": "table"
           }
          ]
         },
         "layout": {
          "annotationdefaults": {
           "arrowcolor": "#2a3f5f",
           "arrowhead": 0,
           "arrowwidth": 1
          },
          "autotypenumbers": "strict",
          "coloraxis": {
           "colorbar": {
            "outlinewidth": 0,
            "ticks": ""
           }
          },
          "colorscale": {
           "diverging": [
            [
             0,
             "#8e0152"
            ],
            [
             0.1,
             "#c51b7d"
            ],
            [
             0.2,
             "#de77ae"
            ],
            [
             0.3,
             "#f1b6da"
            ],
            [
             0.4,
             "#fde0ef"
            ],
            [
             0.5,
             "#f7f7f7"
            ],
            [
             0.6,
             "#e6f5d0"
            ],
            [
             0.7,
             "#b8e186"
            ],
            [
             0.8,
             "#7fbc41"
            ],
            [
             0.9,
             "#4d9221"
            ],
            [
             1,
             "#276419"
            ]
           ],
           "sequential": [
            [
             0,
             "#0d0887"
            ],
            [
             0.1111111111111111,
             "#46039f"
            ],
            [
             0.2222222222222222,
             "#7201a8"
            ],
            [
             0.3333333333333333,
             "#9c179e"
            ],
            [
             0.4444444444444444,
             "#bd3786"
            ],
            [
             0.5555555555555556,
             "#d8576b"
            ],
            [
             0.6666666666666666,
             "#ed7953"
            ],
            [
             0.7777777777777778,
             "#fb9f3a"
            ],
            [
             0.8888888888888888,
             "#fdca26"
            ],
            [
             1,
             "#f0f921"
            ]
           ],
           "sequentialminus": [
            [
             0,
             "#0d0887"
            ],
            [
             0.1111111111111111,
             "#46039f"
            ],
            [
             0.2222222222222222,
             "#7201a8"
            ],
            [
             0.3333333333333333,
             "#9c179e"
            ],
            [
             0.4444444444444444,
             "#bd3786"
            ],
            [
             0.5555555555555556,
             "#d8576b"
            ],
            [
             0.6666666666666666,
             "#ed7953"
            ],
            [
             0.7777777777777778,
             "#fb9f3a"
            ],
            [
             0.8888888888888888,
             "#fdca26"
            ],
            [
             1,
             "#f0f921"
            ]
           ]
          },
          "colorway": [
           "#636efa",
           "#EF553B",
           "#00cc96",
           "#ab63fa",
           "#FFA15A",
           "#19d3f3",
           "#FF6692",
           "#B6E880",
           "#FF97FF",
           "#FECB52"
          ],
          "font": {
           "color": "#2a3f5f"
          },
          "geo": {
           "bgcolor": "white",
           "lakecolor": "white",
           "landcolor": "#E5ECF6",
           "showlakes": true,
           "showland": true,
           "subunitcolor": "white"
          },
          "hoverlabel": {
           "align": "left"
          },
          "hovermode": "closest",
          "mapbox": {
           "style": "light"
          },
          "paper_bgcolor": "white",
          "plot_bgcolor": "#E5ECF6",
          "polar": {
           "angularaxis": {
            "gridcolor": "white",
            "linecolor": "white",
            "ticks": ""
           },
           "bgcolor": "#E5ECF6",
           "radialaxis": {
            "gridcolor": "white",
            "linecolor": "white",
            "ticks": ""
           }
          },
          "scene": {
           "xaxis": {
            "backgroundcolor": "#E5ECF6",
            "gridcolor": "white",
            "gridwidth": 2,
            "linecolor": "white",
            "showbackground": true,
            "ticks": "",
            "zerolinecolor": "white"
           },
           "yaxis": {
            "backgroundcolor": "#E5ECF6",
            "gridcolor": "white",
            "gridwidth": 2,
            "linecolor": "white",
            "showbackground": true,
            "ticks": "",
            "zerolinecolor": "white"
           },
           "zaxis": {
            "backgroundcolor": "#E5ECF6",
            "gridcolor": "white",
            "gridwidth": 2,
            "linecolor": "white",
            "showbackground": true,
            "ticks": "",
            "zerolinecolor": "white"
           }
          },
          "shapedefaults": {
           "line": {
            "color": "#2a3f5f"
           }
          },
          "ternary": {
           "aaxis": {
            "gridcolor": "white",
            "linecolor": "white",
            "ticks": ""
           },
           "baxis": {
            "gridcolor": "white",
            "linecolor": "white",
            "ticks": ""
           },
           "bgcolor": "#E5ECF6",
           "caxis": {
            "gridcolor": "white",
            "linecolor": "white",
            "ticks": ""
           }
          },
          "title": {
           "x": 0.05
          },
          "xaxis": {
           "automargin": true,
           "gridcolor": "white",
           "linecolor": "white",
           "ticks": "",
           "title": {
            "standoff": 15
           },
           "zerolinecolor": "white",
           "zerolinewidth": 2
          },
          "yaxis": {
           "automargin": true,
           "gridcolor": "white",
           "linecolor": "white",
           "ticks": "",
           "title": {
            "standoff": 15
           },
           "zerolinecolor": "white",
           "zerolinewidth": 2
          }
         }
        },
        "title": {
         "text": "SQuAD v2 Titles - Interactive Cluster Plot"
        },
        "xaxis": {
         "anchor": "y",
         "domain": [
          0,
          1
         ],
         "title": {
          "text": "x"
         }
        },
        "yaxis": {
         "anchor": "x",
         "domain": [
          0,
          1
         ],
         "title": {
          "text": "y"
         }
        }
       }
      }
     },
     "metadata": {},
     "output_type": "display_data"
    }
   ],
   "source": [
    "from datasets import load_dataset\n",
    "from sentence_transformers import SentenceTransformer\n",
    "from sklearn.cluster import KMeans\n",
    "from sklearn.manifold import TSNE\n",
    "import plotly.express as px\n",
    "import pandas as pd\n",
    "\n",
    "# -------------------\n",
    "# Load SQuAD v2\n",
    "# -------------------\n",
    "dataset = load_dataset(\"squad_v2\")\n",
    "\n",
    "# Collect all unique titles\n",
    "train_titles = list(dataset[\"train\"][\"title\"])\n",
    "val_titles = list(dataset[\"validation\"][\"title\"])\n",
    "titles = list(set(train_titles + val_titles))\n",
    "print(f\"Total unique titles: {len(titles)}\")\n",
    "\n",
    "# -------------------\n",
    "# Encode with embeddings\n",
    "# -------------------\n",
    "model = SentenceTransformer(\n",
    "    \"Qwen/Qwen3-Embedding-0.6B\",\n",
    "    model_kwargs={\"attn_implementation\": \"flash_attention_2\", \"device_map\": \"auto\"},\n",
    "    tokenizer_kwargs={\"padding_side\": \"left\"},\n",
    ")\n",
    "\n",
    "\n",
    " embeddings = model.encode(titles, show_progress_bar=True)\n",
    "\n",
    "# -------------------\n",
    "# Cluster with KMeans\n",
    "# -------------------\n",
    "n_clusters = 10\n",
    "kmeans = KMeans(n_clusters=n_clusters, random_state=42, n_init=10)\n",
    "labels = kmeans.fit_predict(embeddings)\n",
    "\n",
    "# -------------------\n",
    "# Dimensionality reduction (t-SNE)\n",
    "# -------------------\n",
    "from sklearn.manifold import TSNE\n",
    "tsne = TSNE(n_components=2, random_state=42, perplexity=30, n_iter=1000)\n",
    "emb_2d = tsne.fit_transform(embeddings)\n",
    "\n",
    "# -------------------\n",
    "# Create DataFrame\n",
    "# -------------------\n",
    "df = pd.DataFrame({\n",
    "    \"title\": titles,\n",
    "    \"x\": emb_2d[:, 0],\n",
    "    \"y\": emb_2d[:, 1],\n",
    "    \"cluster\": labels\n",
    "})\n",
    "\n",
    "# -------------------\n",
    "# Interactive plot with Plotly\n",
    "# -------------------\n",
    "fig = px.scatter(\n",
    "    df,\n",
    "    x=\"x\",\n",
    "    y=\"y\",\n",
    "    color=\"cluster\",\n",
    "    hover_data=[\"title\"],   # shows title on hover\n",
    "    title=\"SQuAD v2 Titles - Interactive Cluster Plot\"\n",
    ")\n",
    "\n",
    "fig.show()\n"
   ]
  },
  {
   "cell_type": "code",
   "execution_count": 2,
   "id": "6eb35b04",
   "metadata": {},
   "outputs": [],
   "source": [
    "# SQuAD 2.0\n",
    "\n",
    "ds = load_dataset(\"squad_v2\")  \n",
    "\n",
    "def hf_squad_to_df(hf_split):\n",
    "    rows = []\n",
    "    for ex in hf_split:\n",
    "        answers = ex.get(\"answers\", {})\n",
    "        texts = answers.get(\"text\", []) or []\n",
    "        starts = answers.get(\"answer_start\", []) or []\n",
    "\n",
    "        first_answer_text = texts[0] if len(texts) > 0 else \"\"\n",
    "        first_answer_start = starts[0] if len(starts) > 0 else -1\n",
    "\n",
    "        rows.append({\n",
    "            \"id\": ex.get(\"id\", \"\"),\n",
    "            \"title\": ex.get(\"title\", \"\"),\n",
    "            \"context\": ex.get(\"context\", \"\"),\n",
    "            \"question\": ex.get(\"question\", \"\"),\n",
    "            \"answer\": first_answer_text,          \n",
    "            \"answer_start\": first_answer_start,    \n",
    "        })\n",
    "    return pd.DataFrame(rows)\n",
    "\n",
    "df_squad_train = hf_squad_to_df(ds[\"train\"])\n",
    "df_squad_val = hf_squad_to_df(ds[\"validation\"])"
   ]
  },
  {
   "cell_type": "code",
   "execution_count": 3,
   "id": "c62faa9c",
   "metadata": {},
   "outputs": [],
   "source": [
    "# Covid 19 QA\n",
    "\n",
    "def open_json(path):\n",
    "    with open(path, 'r') as f:\n",
    "        return json.load(f)\n",
    "    \n",
    "data_covidqa = open_json('data/covidqa/train.json')\n",
    "\n",
    "rows = []\n",
    "for entry in data_covidqa['data']:\n",
    "    for para in entry['paragraphs']:\n",
    "        for qa in para['qas']:\n",
    "            row = {\n",
    "                \"question\": qa.get(\"question\", \"\"),\n",
    "                \"answer\": [ans.get(\"text\", \"\") for ans in qa.get(\"answers\", [])][0]\n",
    "            }\n",
    "            rows.append(row)\n",
    "\n",
    "df_covidqa_train = pd.DataFrame(rows)"
   ]
  },
  {
   "cell_type": "code",
   "execution_count": 4,
   "id": "fdb5bfe6",
   "metadata": {},
   "outputs": [],
   "source": [
    "# PolicyQA\n",
    "\n",
    "def flatten_policyqa_split(split_obj):\n",
    "    rows = []\n",
    "    for entry in split_obj.get(\"data\", []):\n",
    "        title = entry.get(\"title\", \"\")\n",
    "        for para in entry.get(\"paragraphs\", []):\n",
    "            context = para.get(\"context\", \"\")\n",
    "            index = para.get(\"index\", None)\n",
    "            summary = para.get(\"summary\", [])\n",
    "            for qa in para.get(\"qas\", []):\n",
    "                answers = qa.get(\"answers\", [])\n",
    "                first_answer_text = answers[0].get(\"text\", \"\") if answers else \"\"\n",
    "                row = {\n",
    "                    \"title\": title,\n",
    "                    \"index\": index,\n",
    "                    \"context\": context,\n",
    "                    \"summary\": summary,\n",
    "                    \"question\": qa.get(\"question\", \"\"),\n",
    "                    \"type\": qa.get(\"type\", \"\"),\n",
    "                    \"id\": qa.get(\"id\", \"\"),\n",
    "                    \"answer\": first_answer_text,  \n",
    "                }\n",
    "                rows.append(row)\n",
    "    return rows\n",
    "\n",
    "data_policyqa_train = open_json('data/policyqa/train.json')\n",
    "data_policyqa_dev = open_json('data/policyqa/dev.json')\n",
    "data_policyqa_test = open_json('data/policyqa/test.json')\n",
    "\n",
    "df_policyqa_train = pd.DataFrame(flatten_policyqa_split(data_policyqa_train))\n",
    "df_policyqa_dev   = pd.DataFrame(flatten_policyqa_split(data_policyqa_dev))\n",
    "df_policyqa_test  = pd.DataFrame(flatten_policyqa_split(data_policyqa_test))"
   ]
  },
  {
   "cell_type": "code",
   "execution_count": 29,
   "id": "f8779655",
   "metadata": {},
   "outputs": [],
   "source": [
    "covidqa_count = len(df_covidqa_train)\n",
    "\n",
    "policyqa_counts = {\n",
    "    \"train\": len(df_policyqa_train),\n",
    "    \"dev\": len(df_policyqa_dev),\n",
    "    \"test\": len(df_policyqa_test)\n",
    "}\n",
    "\n",
    "squad_counts = {\n",
    "    \"train\": len(df_squad_train),\n",
    "    \"validation\": len(df_squad_val),\n",
    "}"
   ]
  },
  {
   "cell_type": "code",
   "execution_count": null,
   "id": "6b0cfdca",
   "metadata": {},
   "outputs": [
    {
     "data": {
      "image/png": "[encoded data removed]",
      "text/plain": [
       "<Figure size 950x600 with 1 Axes>"
      ]
     },
     "metadata": {},
     "output_type": "display_data"
    }
   ],
   "source": [
    "train_color = \"skyblue\"\n",
    "dev_color   = \"#FDB462\"\n",
    "test_color  = \"#8DD3C7\"\n",
    "\n",
    "covidqa_count   = len(df_covidqa_train)\n",
    "policyqa_total  = sum(policyqa_counts.values())\n",
    "squad_total     = sum(squad_counts.values())\n",
    "ymax            = max(covidqa_count, policyqa_total, squad_total)\n",
    "ymax            = ymax * 1.2 if ymax > 0 else 1\n",
    "\n",
    "# --- Start figure ---\n",
    "fig, ax = plt.subplots(figsize=(9.5, 6))\n",
    "\n",
    "# 1) CovidQA: single bar\n",
    "ax.bar(\"CovidQA\", covidqa_count, edgecolor=\"black\", linewidth=1.2, color=train_color)\n",
    "\n",
    "# label on top\n",
    "ax.text(\"CovidQA\", covidqa_count + ymax * 0.02, f\"{covidqa_count:,}\",\n",
    "        ha=\"center\", va=\"bottom\", fontsize=11, fontweight=\"bold\")\n",
    "\n",
    "# 2) PolicyQA: stacked (train/dev/test)\n",
    "bottom = 0\n",
    "for split_name, color in [(\"train\", train_color), (\"dev\", dev_color), (\"test\", test_color)]:\n",
    "    value = policyqa_counts.get(split_name, 0)\n",
    "    ax.bar(\"PolicyQA\", value, bottom=bottom, edgecolor=\"black\", linewidth=1.2, color=color,\n",
    "           label=split_name.capitalize())\n",
    "    bottom += value\n",
    "\n",
    "ax.text(\"PolicyQA\", policyqa_total + ymax * 0.02, f\"{policyqa_total:,}\",\n",
    "        ha=\"center\", va=\"bottom\", fontsize=11, fontweight=\"bold\")\n",
    "\n",
    "# 3) SQuAD v2: stacked (train/dev)\n",
    "bottom = 0\n",
    "for split_name, color in [(\"train\", train_color), (\"validation\", dev_color)]:\n",
    "    value = squad_counts.get(split_name, 0)\n",
    "    ax.bar(\"SQuAD v2\", value, bottom=bottom, edgecolor=\"black\", linewidth=1.2, color=color,\n",
    "           label=(\"Dev\" if split_name == \"validation\" else \"Train\"))\n",
    "    bottom += value\n",
    "\n",
    "ax.text(\"SQuAD v2\", squad_total + ymax * 0.02, f\"{squad_total:,}\",\n",
    "        ha=\"center\", va=\"bottom\", fontsize=11, fontweight=\"bold\")\n",
    "\n",
    "# --- Axes/formatting ---\n",
    "ax.set_title(\"Total Rows (QAs) per Dataset\", fontsize=14, pad=8)\n",
    "ax.set_xlabel(\"\")\n",
    "ax.set_ylabel(\"Count\", fontsize=12)\n",
    "ax.set_ylim(0, ymax)\n",
    "ax.yaxis.set_major_formatter(lambda x, pos: f\"{int(x):,}\")\n",
    "ax.grid(axis=\"y\", linestyle=\"--\", linewidth=0.6, alpha=0.6)\n",
    "\n",
    "for spine in [\"top\", \"right\"]:\n",
    "    ax.spines[spine].set_visible(False)\n",
    "\n",
    "# --- Legend (deduplicate labels) ---\n",
    "handles, labels = ax.get_legend_handles_labels()\n",
    "dedup = {}\n",
    "for h, l in zip(handles, labels):\n",
    "    if l not in dedup:\n",
    "        dedup[l] = h\n",
    "leg = ax.legend(dedup.values(), dedup.keys(), title=\"Split\", frameon=True, fancybox=True, framealpha=0.9)\n",
    "if leg and leg.get_frame():\n",
    "    leg.get_frame().set_linewidth(0.8)\n",
    "\n",
    "plt.tight_layout()\n",
    "plt.show()"
   ]
  },
  {
   "cell_type": "code",
   "execution_count": null,
   "id": "9c714b06",
   "metadata": {},
   "outputs": [],
   "source": [
    "import json\n",
    "import os\n",
    "import numpy as np\n",
    "import pandas as pd\n",
    "import matplotlib.pyplot as plt\n",
    "\n",
    "qa_path = 'TechQA/technote_corpus/training_and_dev/training_Q_A.json'\n",
    "doc_path = 'TechQA/technote_corpus/training_and_dev/training_dev_technotes.json'\n",
    "\n",
    "def safe_int(x):\n",
    "    try:\n",
    "        return int(x)\n",
    "    except (TypeError, ValueError):\n",
    "        return -1\n",
    "\n",
    "# ---------- Load data ----------\n",
    "with open(qa_path, 'r', encoding='utf-8') as f:\n",
    "    qa_data = json.load(f)\n",
    "\n",
    "with open(doc_path, 'r', encoding='utf-8') as f:\n",
    "    doc_data = json.load(f)"
   ]
  },
  {
   "cell_type": "code",
   "execution_count": null,
   "id": "284e9729",
   "metadata": {},
   "outputs": [],
   "source": [
    "records = []\n",
    "\n",
    "for q in qa_data:\n",
    "    question_text = q.get('QUESTION_TEXT', '').strip()\n",
    "    answer_text = q.get('ANSWER', '').strip()\n",
    "    passage_id = q.get('DOCUMENT', '').strip()\n",
    "    passage_entry = doc_data.get(passage_id, {})\n",
    "\n",
    "    passage_title = passage_entry.get('title', '').strip()\n",
    "    passage_text = passage_entry.get('text') or passage_entry.get('content', '')\n",
    "    \n",
    "    start_offset = safe_int(q.get('START_OFFSET'))\n",
    "    end_offset = safe_int(q.get('END_OFFSET'))\n",
    "    \n",
    "    answerable = int(q.get('ANSWERABLE', '').strip().upper() == 'Y')\n",
    "    \n",
    "    records.append({\n",
    "        \"context\": passage_text,\n",
    "        \"question\": question_text,\n",
    "        \"answer\": answer_text,\n",
    "        \"answer_start\": start_offset,\n",
    "        \"answer_end\": end_offset,\n",
    "        \"answerable\": answerable,\n",
    "        \"dataset\": \"techqa\"\n",
    "    })\n",
    "\n",
    "df = pd.DataFrame(records)"
   ]
  },
  {
   "cell_type": "code",
   "execution_count": 14,
   "id": "08cf3c64",
   "metadata": {},
   "outputs": [
    {
     "data": {
      "text/html": [
       "<div>\n",
       "<style scoped>\n",
       "    .dataframe tbody tr th:only-of-type {\n",
       "        vertical-align: middle;\n",
       "    }\n",
       "\n",
       "    .dataframe tbody tr th {\n",
       "        vertical-align: top;\n",
       "    }\n",
       "\n",
       "    .dataframe thead th {\n",
       "        text-align: right;\n",
       "    }\n",
       "</style>\n",
       "<table border=\"1\" class=\"dataframe\">\n",
       "  <thead>\n",
       "    <tr style=\"text-align: right;\">\n",
       "      <th></th>\n",
       "      <th>question</th>\n",
       "      <th>answer</th>\n",
       "      <th>passage</th>\n",
       "      <th>start_offset</th>\n",
       "      <th>end_offset</th>\n",
       "      <th>answerable</th>\n",
       "    </tr>\n",
       "  </thead>\n",
       "  <tbody>\n",
       "    <tr>\n",
       "      <th>0</th>\n",
       "      <td>Have you found that after upgrade to Streams 4...</td>\n",
       "      <td>To work around the issue, set environment vari...</td>\n",
       "      <td>FLASH (ALERT)\\n\\nABSTRACT\\n In Streams 4.1.1....</td>\n",
       "      <td>822</td>\n",
       "      <td>1055</td>\n",
       "      <td>1</td>\n",
       "    </tr>\n",
       "    <tr>\n",
       "      <th>1</th>\n",
       "      <td>Netcool/Impact (all versions)\\n\\nUsing the Exi...</td>\n",
       "      <td>This is because the Exit() parser function in ...</td>\n",
       "      <td>netcool; impact; netcool/impact; nci; ipl; pol...</td>\n",
       "      <td>494</td>\n",
       "      <td>763</td>\n",
       "      <td>1</td>\n",
       "    </tr>\n",
       "    <tr>\n",
       "      <th>2</th>\n",
       "      <td>I have changed my cluster receiver to match th...</td>\n",
       "      <td>-</td>\n",
       "      <td></td>\n",
       "      <td>-1</td>\n",
       "      <td>-1</td>\n",
       "      <td>0</td>\n",
       "    </tr>\n",
       "    <tr>\n",
       "      <th>3</th>\n",
       "      <td>We are running IHS v7 and our application team...</td>\n",
       "      <td>The following steps help guide you through the...</td>\n",
       "      <td>ssl; handshake; secure socket layer; handshake...</td>\n",
       "      <td>649</td>\n",
       "      <td>1322</td>\n",
       "      <td>1</td>\n",
       "    </tr>\n",
       "    <tr>\n",
       "      <th>4</th>\n",
       "      <td>I need to understand details regarding Action ...</td>\n",
       "      <td>-</td>\n",
       "      <td></td>\n",
       "      <td>-1</td>\n",
       "      <td>-1</td>\n",
       "      <td>0</td>\n",
       "    </tr>\n",
       "    <tr>\n",
       "      <th>...</th>\n",
       "      <td>...</td>\n",
       "      <td>...</td>\n",
       "      <td>...</td>\n",
       "      <td>...</td>\n",
       "      <td>...</td>\n",
       "      <td>...</td>\n",
       "    </tr>\n",
       "    <tr>\n",
       "      <th>595</th>\n",
       "      <td>I am looking to setup a DataPower MQ Client to...</td>\n",
       "      <td>The following three steps are necessary to mak...</td>\n",
       "      <td>datapower; mq; websphere mq; ssl; mutual authe...</td>\n",
       "      <td>1533</td>\n",
       "      <td>2320</td>\n",
       "      <td>1</td>\n",
       "    </tr>\n",
       "    <tr>\n",
       "      <th>596</th>\n",
       "      <td>We have an MQ agent instance that keeps shutti...</td>\n",
       "      <td>Download RELEASE DATE LANGUAGE SIZE(Bytes) Dow...</td>\n",
       "      <td>DOWNLOADABLE FILES\\n\\nABSTRACT\\n This is the ...</td>\n",
       "      <td>1761</td>\n",
       "      <td>1954</td>\n",
       "      <td>1</td>\n",
       "    </tr>\n",
       "    <tr>\n",
       "      <th>597</th>\n",
       "      <td>How do I change the default 'fit content by' b...</td>\n",
       "      <td>In the ..navigator.war/applets/filenetViewer_p...</td>\n",
       "      <td>fit by height; fit by width; fit; default fit;...</td>\n",
       "      <td>287</td>\n",
       "      <td>841</td>\n",
       "      <td>1</td>\n",
       "    </tr>\n",
       "    <tr>\n",
       "      <th>598</th>\n",
       "      <td>We are using Lombardi 7.2.0.5 version. We are ...</td>\n",
       "      <td>The following table provides direct links to t...</td>\n",
       "      <td>DSREntry; SystemRequirementsDocument; prereq; ...</td>\n",
       "      <td>758</td>\n",
       "      <td>1111</td>\n",
       "      <td>1</td>\n",
       "    </tr>\n",
       "    <tr>\n",
       "      <th>599</th>\n",
       "      <td>When saving changes in ICC configuration manag...</td>\n",
       "      <td>Incompatible Windows security policy.</td>\n",
       "      <td>icc; fips; md5 TECHNOTE (TROUBLESHOOTING)\\n\\nP...</td>\n",
       "      <td>1166</td>\n",
       "      <td>1203</td>\n",
       "      <td>1</td>\n",
       "    </tr>\n",
       "  </tbody>\n",
       "</table>\n",
       "<p>600 rows × 6 columns</p>\n",
       "</div>"
      ],
      "text/plain": [
       "                                              question  \\\n",
       "0    Have you found that after upgrade to Streams 4...   \n",
       "1    Netcool/Impact (all versions)\\n\\nUsing the Exi...   \n",
       "2    I have changed my cluster receiver to match th...   \n",
       "3    We are running IHS v7 and our application team...   \n",
       "4    I need to understand details regarding Action ...   \n",
       "..                                                 ...   \n",
       "595  I am looking to setup a DataPower MQ Client to...   \n",
       "596  We have an MQ agent instance that keeps shutti...   \n",
       "597  How do I change the default 'fit content by' b...   \n",
       "598  We are using Lombardi 7.2.0.5 version. We are ...   \n",
       "599  When saving changes in ICC configuration manag...   \n",
       "\n",
       "                                                answer  \\\n",
       "0    To work around the issue, set environment vari...   \n",
       "1    This is because the Exit() parser function in ...   \n",
       "2                                                    -   \n",
       "3    The following steps help guide you through the...   \n",
       "4                                                    -   \n",
       "..                                                 ...   \n",
       "595  The following three steps are necessary to mak...   \n",
       "596  Download RELEASE DATE LANGUAGE SIZE(Bytes) Dow...   \n",
       "597  In the ..navigator.war/applets/filenetViewer_p...   \n",
       "598  The following table provides direct links to t...   \n",
       "599              Incompatible Windows security policy.   \n",
       "\n",
       "                                               passage  start_offset  \\\n",
       "0     FLASH (ALERT)\\n\\nABSTRACT\\n In Streams 4.1.1....           822   \n",
       "1    netcool; impact; netcool/impact; nci; ipl; pol...           494   \n",
       "2                                                                 -1   \n",
       "3    ssl; handshake; secure socket layer; handshake...           649   \n",
       "4                                                                 -1   \n",
       "..                                                 ...           ...   \n",
       "595  datapower; mq; websphere mq; ssl; mutual authe...          1533   \n",
       "596   DOWNLOADABLE FILES\\n\\nABSTRACT\\n This is the ...          1761   \n",
       "597  fit by height; fit by width; fit; default fit;...           287   \n",
       "598  DSREntry; SystemRequirementsDocument; prereq; ...           758   \n",
       "599  icc; fips; md5 TECHNOTE (TROUBLESHOOTING)\\n\\nP...          1166   \n",
       "\n",
       "     end_offset  answerable  \n",
       "0          1055           1  \n",
       "1           763           1  \n",
       "2            -1           0  \n",
       "3          1322           1  \n",
       "4            -1           0  \n",
       "..          ...         ...  \n",
       "595        2320           1  \n",
       "596        1954           1  \n",
       "597         841           1  \n",
       "598        1111           1  \n",
       "599        1203           1  \n",
       "\n",
       "[600 rows x 6 columns]"
      ]
     },
     "execution_count": 14,
     "metadata": {},
     "output_type": "execute_result"
    }
   ],
   "source": [
    "df"
   ]
  },
  {
   "cell_type": "code",
   "execution_count": 16,
   "id": "22e803ff",
   "metadata": {},
   "outputs": [
    {
     "data": {
      "text/html": [
       "<div>\n",
       "<style scoped>\n",
       "    .dataframe tbody tr th:only-of-type {\n",
       "        vertical-align: middle;\n",
       "    }\n",
       "\n",
       "    .dataframe tbody tr th {\n",
       "        vertical-align: top;\n",
       "    }\n",
       "\n",
       "    .dataframe thead th {\n",
       "        text-align: right;\n",
       "    }\n",
       "</style>\n",
       "<table border=\"1\" class=\"dataframe\">\n",
       "  <thead>\n",
       "    <tr style=\"text-align: right;\">\n",
       "      <th></th>\n",
       "      <th>dataset</th>\n",
       "      <th>num_questions</th>\n",
       "      <th>avg_question_len</th>\n",
       "      <th>avg_answer_len</th>\n",
       "      <th>avg_passage_len</th>\n",
       "      <th>pct_answerable</th>\n",
       "    </tr>\n",
       "  </thead>\n",
       "  <tbody>\n",
       "    <tr>\n",
       "      <th>0</th>\n",
       "      <td>training</td>\n",
       "      <td>600</td>\n",
       "      <td>269.86</td>\n",
       "      <td>270.095</td>\n",
       "      <td>3888.378333</td>\n",
       "      <td>75.0</td>\n",
       "    </tr>\n",
       "  </tbody>\n",
       "</table>\n",
       "</div>"
      ],
      "text/plain": [
       "    dataset  num_questions  avg_question_len  avg_answer_len  avg_passage_len  \\\n",
       "0  training            600            269.86         270.095      3888.378333   \n",
       "\n",
       "   pct_answerable  \n",
       "0            75.0  "
      ]
     },
     "execution_count": 16,
     "metadata": {},
     "output_type": "execute_result"
    }
   ],
   "source": [
    "# ---------- Compute dataset‑level statistics ----------\n",
    "stats = {\n",
    "    \"dataset\": [\"training\"],\n",
    "    \"num_questions\": [len(df)],\n",
    "    \"avg_question_len\": [df[\"question\"].str.len().mean()],\n",
    "    \"avg_answer_len\": [df[\"answer\"].str.len().mean()],\n",
    "    \"avg_passage_len\": [df[\"passage\"].str.len().mean()],\n",
    "    \"pct_answerable\": [df[\"answerable\"].mean() * 100.0]\n",
    "}\n",
    "stats_df = pd.DataFrame(stats)\n",
    "\n",
    "\n",
    "stats_df"
   ]
  }
 ],
 "metadata": {
  "kernelspec": {
   "display_name": ".venv",
   "language": "python",
   "name": "python3"
  },
  "language_info": {
   "codemirror_mode": {
    "name": "ipython",
    "version": 3
   },
   "file_extension": ".py",
   "mimetype": "text/x-python",
   "name": "python",
   "nbconvert_exporter": "python",
   "pygments_lexer": "ipython3",
   "version": "3.10.12"
  }
 },
 "nbformat": 4,
 "nbformat_minor": 5
}
